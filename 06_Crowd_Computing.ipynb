{
 "cells": [
  {
   "cell_type": "markdown",
   "id": "5a8cb4db",
   "metadata": {},
   "source": [
    " We have a jar having unknown number of beads in it. We ask a group of crowd to predict the number of of beads in the jar. and then we compare the average of crowd prediction to the actual."
   ]
  },
  {
   "cell_type": "code",
   "execution_count": 2,
   "id": "912d1654",
   "metadata": {},
   "outputs": [],
   "source": [
    "import matplotlib.pyplot as plt\n",
    "import statistics"
   ]
  },
  {
   "cell_type": "code",
   "execution_count": 3,
   "id": "8ccfbf40",
   "metadata": {},
   "outputs": [
    {
     "data": {
      "text/plain": [
       "[<matplotlib.lines.Line2D at 0x1ee617f6100>]"
      ]
     },
     "execution_count": 3,
     "metadata": {},
     "output_type": "execute_result"
    },
    {
     "data": {
      "image/png": "[encoded data removed]",
      "text/plain": [
       "<Figure size 640x480 with 1 Axes>"
      ]
     },
     "metadata": {},
     "output_type": "display_data"
    }
   ],
   "source": [
    "Estimates=[100,125,258,659,425,175,359,624,125,325,128,159,258,2015,123,234,235,754,951,358,456,752,158,654,258,635] \n",
    "\n",
    "y=[]   \n",
    "\n",
    "Estimates.sort() \n",
    "\n",
    "\n",
    "# getting the 10% of the list \n",
    "\n",
    "trimValue=int(0.1*(len(Estimates))) \n",
    " \n",
    "\n",
    "#Trimming 10% values from both sides of the list \n",
    "\n",
    "Estimates=Estimates[trimValue:] \n",
    "\n",
    "Estimates=Estimates[:len(Estimates) - trimValue] \n",
    "\n",
    "  \n",
    "\n",
    "for i in range(len(Estimates)): \n",
    "\n",
    "    y.append(5) \n",
    "\n",
    "  \n",
    "\n",
    "plt.plot(Estimates,y,\"r--\") \n",
    "\n",
    "plt.plot([statistics.mean(Estimates)],[5],\"ro\") \n",
    "\n",
    "plt.plot([statistics.median(Estimates)],[5],\"bs\") \n",
    "\n",
    "plt.plot([375],[5],\"g^\") #actual no of gems in the jar"
   ]
  },
  {
   "cell_type": "code",
   "execution_count": null,
   "id": "1f2227c4",
   "metadata": {},
   "outputs": [],
   "source": []
  }
 ],
 "metadata": {
  "kernelspec": {
   "display_name": "Python 3 (ipykernel)",
   "language": "python",
   "name": "python3"
  },
  "language_info": {
   "codemirror_mode": {
    "name": "ipython",
    "version": 3
   },
   "file_extension": ".py",
   "mimetype": "text/x-python",
   "name": "python",
   "nbconvert_exporter": "python",
   "pygments_lexer": "ipython3",
   "version": "3.9.18"
  }
 },
 "nbformat": 4,
 "nbformat_minor": 5
}
