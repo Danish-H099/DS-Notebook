{
 "cells": [
  {
   "cell_type": "markdown",
   "id": "6a0edbbe",
   "metadata": {},
   "source": [
    "# Lab5 - Danish - 2106112"
   ]
  },
  {
   "cell_type": "code",
   "execution_count": 1,
   "id": "80201ab5",
   "metadata": {},
   "outputs": [],
   "source": [
    "import pandas as pd"
   ]
  },
  {
   "cell_type": "code",
   "execution_count": 6,
   "id": "960e6811",
   "metadata": {},
   "outputs": [
    {
     "data": {
      "text/html": [
       "<div>\n",
       "<style scoped>\n",
       "    .dataframe tbody tr th:only-of-type {\n",
       "        vertical-align: middle;\n",
       "    }\n",
       "\n",
       "    .dataframe tbody tr th {\n",
       "        vertical-align: top;\n",
       "    }\n",
       "\n",
       "    .dataframe thead th {\n",
       "        text-align: right;\n",
       "    }\n",
       "</style>\n",
       "<table border=\"1\" class=\"dataframe\">\n",
       "  <thead>\n",
       "    <tr style=\"text-align: right;\">\n",
       "      <th></th>\n",
       "      <th>Tr. No.</th>\n",
       "      <th>Products</th>\n",
       "    </tr>\n",
       "  </thead>\n",
       "  <tbody>\n",
       "    <tr>\n",
       "      <th>0</th>\n",
       "      <td>1</td>\n",
       "      <td>MILK,BREAD,BISCUIT</td>\n",
       "    </tr>\n",
       "    <tr>\n",
       "      <th>1</th>\n",
       "      <td>2</td>\n",
       "      <td>BREAD,MILK,BISCUIT,CORNFLAKES</td>\n",
       "    </tr>\n",
       "    <tr>\n",
       "      <th>2</th>\n",
       "      <td>3</td>\n",
       "      <td>BREAD,TEA,BOURNVITA</td>\n",
       "    </tr>\n",
       "    <tr>\n",
       "      <th>3</th>\n",
       "      <td>4</td>\n",
       "      <td>JAM,MAGGI,BREAD,MILK</td>\n",
       "    </tr>\n",
       "    <tr>\n",
       "      <th>4</th>\n",
       "      <td>5</td>\n",
       "      <td>MAGGI,TEA,BISCUIT</td>\n",
       "    </tr>\n",
       "    <tr>\n",
       "      <th>5</th>\n",
       "      <td>6</td>\n",
       "      <td>BREAD,TEA,BOURNVITA</td>\n",
       "    </tr>\n",
       "    <tr>\n",
       "      <th>6</th>\n",
       "      <td>7</td>\n",
       "      <td>MAGGI,TEA,CORNFLAKES</td>\n",
       "    </tr>\n",
       "    <tr>\n",
       "      <th>7</th>\n",
       "      <td>8</td>\n",
       "      <td>MAGGI,BREAD,TEA,BISCUIT</td>\n",
       "    </tr>\n",
       "    <tr>\n",
       "      <th>8</th>\n",
       "      <td>9</td>\n",
       "      <td>JAM,MAGGI,BREAD,TEA</td>\n",
       "    </tr>\n",
       "    <tr>\n",
       "      <th>9</th>\n",
       "      <td>10</td>\n",
       "      <td>BREAD,MILK</td>\n",
       "    </tr>\n",
       "    <tr>\n",
       "      <th>10</th>\n",
       "      <td>11</td>\n",
       "      <td>COFFEE,COCK,BISCUIT,CORNFLAKES</td>\n",
       "    </tr>\n",
       "    <tr>\n",
       "      <th>11</th>\n",
       "      <td>12</td>\n",
       "      <td>COFFEE,COCK,BISCUIT,CORNFLAKES</td>\n",
       "    </tr>\n",
       "    <tr>\n",
       "      <th>12</th>\n",
       "      <td>13</td>\n",
       "      <td>COFFEE,SUGER,BOURNVITA</td>\n",
       "    </tr>\n",
       "    <tr>\n",
       "      <th>13</th>\n",
       "      <td>14</td>\n",
       "      <td>BREAD,COFFEE,COCK</td>\n",
       "    </tr>\n",
       "    <tr>\n",
       "      <th>14</th>\n",
       "      <td>15</td>\n",
       "      <td>BREAD,SUGER,BISCUIT</td>\n",
       "    </tr>\n",
       "    <tr>\n",
       "      <th>15</th>\n",
       "      <td>16</td>\n",
       "      <td>COFFEE,SUGER,CORNFLAKES</td>\n",
       "    </tr>\n",
       "    <tr>\n",
       "      <th>16</th>\n",
       "      <td>17</td>\n",
       "      <td>BREAD,SUGER,BOURNVITA</td>\n",
       "    </tr>\n",
       "    <tr>\n",
       "      <th>17</th>\n",
       "      <td>18</td>\n",
       "      <td>BREAD,COFFEE,SUGER</td>\n",
       "    </tr>\n",
       "    <tr>\n",
       "      <th>18</th>\n",
       "      <td>19</td>\n",
       "      <td>BREAD,COFFEE,SUGER</td>\n",
       "    </tr>\n",
       "    <tr>\n",
       "      <th>19</th>\n",
       "      <td>20</td>\n",
       "      <td>TEA,MILK,COFFEE,CORNFLAKES</td>\n",
       "    </tr>\n",
       "  </tbody>\n",
       "</table>\n",
       "</div>"
      ],
      "text/plain": [
       "    Tr. No.                         Products\n",
       "0          1              MILK,BREAD,BISCUIT\n",
       "1          2   BREAD,MILK,BISCUIT,CORNFLAKES\n",
       "2          3             BREAD,TEA,BOURNVITA\n",
       "3          4            JAM,MAGGI,BREAD,MILK\n",
       "4          5               MAGGI,TEA,BISCUIT\n",
       "5          6             BREAD,TEA,BOURNVITA\n",
       "6          7            MAGGI,TEA,CORNFLAKES\n",
       "7          8         MAGGI,BREAD,TEA,BISCUIT\n",
       "8          9             JAM,MAGGI,BREAD,TEA\n",
       "9         10                      BREAD,MILK\n",
       "10        11  COFFEE,COCK,BISCUIT,CORNFLAKES\n",
       "11        12  COFFEE,COCK,BISCUIT,CORNFLAKES\n",
       "12        13          COFFEE,SUGER,BOURNVITA\n",
       "13        14               BREAD,COFFEE,COCK\n",
       "14        15             BREAD,SUGER,BISCUIT\n",
       "15        16         COFFEE,SUGER,CORNFLAKES\n",
       "16        17           BREAD,SUGER,BOURNVITA\n",
       "17        18              BREAD,COFFEE,SUGER\n",
       "18        19              BREAD,COFFEE,SUGER\n",
       "19        20      TEA,MILK,COFFEE,CORNFLAKES"
      ]
     },
     "execution_count": 6,
     "metadata": {},
     "output_type": "execute_result"
    }
   ],
   "source": [
    "df=pd.read_csv(\"GroceryStoreDataSet.csv\")\n",
    "df"
   ]
  },
  {
   "cell_type": "markdown",
   "id": "5e19d8e9",
   "metadata": {},
   "source": [
    "### Task1 - Given a transactional dataset, implement Apriori algorithm to generate association rules with user specified 'Support' and 'Confidence' values."
   ]
  },
  {
   "cell_type": "markdown",
   "id": "98e5194d",
   "metadata": {},
   "source": [
    "### Apriori algorithm:\n",
    "- refers to the algorithm which is used to calculate the association rules between objects. \n",
    "- It means how two or more objects are related to one another. \n",
    "- In other words, we can say that the apriori algorithm is an association rule leaning that analyzes that people who bought product A also bought product B."
   ]
  },
  {
   "cell_type": "markdown",
   "id": "ad756d1f",
   "metadata": {},
   "source": [
    "The given three components comprise the apriori algorithm.\n",
    "- Support\n",
    "- Confidence\n",
    "- Lift"
   ]
  },
  {
   "cell_type": "markdown",
   "id": "db82eb7f",
   "metadata": {},
   "source": [
    "#### Support\n",
    "- Support refers to the default popularity of any product. \n",
    "- You find the support as a quotient of the division of the number of transactions comprising that product by the total number of transactions. Hence, we get<br>**Support (Biscuits) = (Transactions relating biscuits) / (Total transactions)**"
   ]
  },
  {
   "cell_type": "markdown",
   "id": "ffd4d0d8",
   "metadata": {},
   "source": [
    "#### Confidence\n",
    "- Confidence refers to the possibility that the customers bought both biscuits and chocolates together. \n",
    "- So, you need to divide the number of transactions that comprise both biscuits and chocolates by the total number of transactions to get the confidence.<br>**Confidence = (Transactions relating both biscuits and Chocolate) / (Total transactions involving Biscuits)**"
   ]
  },
  {
   "cell_type": "markdown",
   "id": "ce314e2c",
   "metadata": {},
   "source": [
    "#### Lift\n",
    "- lift refers to the increase in the ratio of the sale of chocolates when you sell biscuits. \n",
    "- The mathematical equations of lift are given below.<br> **Lift = (Confidence (Biscuits - chocolates)/ (Support (Biscuits)**"
   ]
  },
  {
   "cell_type": "markdown",
   "id": "b774d6bc",
   "metadata": {},
   "source": [
    "Support = 50%\n",
    "Confidence = 75% <br>\n",
    "we need to get number of rules"
   ]
  },
  {
   "cell_type": "code",
   "execution_count": null,
   "id": "a9b7dece",
   "metadata": {},
   "outputs": [],
   "source": []
  }
 ],
 "metadata": {
  "kernelspec": {
   "display_name": "Python 3 (ipykernel)",
   "language": "python",
   "name": "python3"
  },
  "language_info": {
   "codemirror_mode": {
    "name": "ipython",
    "version": 3
   },
   "file_extension": ".py",
   "mimetype": "text/x-python",
   "name": "python",
   "nbconvert_exporter": "python",
   "pygments_lexer": "ipython3",
   "version": "3.9.18"
  }
 },
 "nbformat": 4,
 "nbformat_minor": 5
}
