{
 "cells": [
  {
   "cell_type": "markdown",
   "id": "6e4335b2",
   "metadata": {},
   "source": [
    "# Lab1 - Data Mining"
   ]
  },
  {
   "cell_type": "code",
   "execution_count": 3,
   "id": "f4377669",
   "metadata": {},
   "outputs": [
    {
     "name": "stdout",
     "output_type": "stream",
     "text": [
      "(100, 9)\n"
     ]
    }
   ],
   "source": [
    "import pandas as pd\n",
    "df = pd.read_csv('people-100_MV-1.csv')\n",
    "print(df.shape)"
   ]
  },
  {
   "cell_type": "code",
   "execution_count": 8,
   "id": "90057a3d",
   "metadata": {},
   "outputs": [
    {
     "data": {
      "text/html": [
       "<div>\n",
       "<style scoped>\n",
       "    .dataframe tbody tr th:only-of-type {\n",
       "        vertical-align: middle;\n",
       "    }\n",
       "\n",
       "    .dataframe tbody tr th {\n",
       "        vertical-align: top;\n",
       "    }\n",
       "\n",
       "    .dataframe thead th {\n",
       "        text-align: right;\n",
       "    }\n",
       "</style>\n",
       "<table border=\"1\" class=\"dataframe\">\n",
       "  <thead>\n",
       "    <tr style=\"text-align: right;\">\n",
       "      <th></th>\n",
       "      <th>Index</th>\n",
       "      <th>User Id</th>\n",
       "      <th>First Name</th>\n",
       "      <th>Last Name</th>\n",
       "      <th>Gender</th>\n",
       "      <th>Email</th>\n",
       "      <th>Phone</th>\n",
       "      <th>Date of birth</th>\n",
       "      <th>Job Title</th>\n",
       "    </tr>\n",
       "  </thead>\n",
       "  <tbody>\n",
       "    <tr>\n",
       "      <th>0</th>\n",
       "      <td>1</td>\n",
       "      <td>88F7B33d2bcf9f5</td>\n",
       "      <td>Shelby</td>\n",
       "      <td>Terrell</td>\n",
       "      <td>Male</td>\n",
       "      <td>elijah57@example.net</td>\n",
       "      <td>001-084-906-7849x73518</td>\n",
       "      <td>26-10-1945</td>\n",
       "      <td>Games developer</td>\n",
       "    </tr>\n",
       "    <tr>\n",
       "      <th>1</th>\n",
       "      <td>2</td>\n",
       "      <td>f90cD3E76f1A9b9</td>\n",
       "      <td>Phillip</td>\n",
       "      <td>Summers</td>\n",
       "      <td>Female</td>\n",
       "      <td>bethany14@example.com</td>\n",
       "      <td>214.112.6044x4913</td>\n",
       "      <td>24-03-1910</td>\n",
       "      <td>Phytotherapist</td>\n",
       "    </tr>\n",
       "    <tr>\n",
       "      <th>2</th>\n",
       "      <td>3</td>\n",
       "      <td>DbeAb8CcdfeFC2c</td>\n",
       "      <td>Kristine</td>\n",
       "      <td>Travis</td>\n",
       "      <td>Male</td>\n",
       "      <td>bthompson@example.com</td>\n",
       "      <td>277.609.7938</td>\n",
       "      <td>02-07-1992</td>\n",
       "      <td>Homeopath</td>\n",
       "    </tr>\n",
       "    <tr>\n",
       "      <th>3</th>\n",
       "      <td>4</td>\n",
       "      <td>A31Bee3c201ef58</td>\n",
       "      <td>Yesenia</td>\n",
       "      <td>Martinez</td>\n",
       "      <td>Male</td>\n",
       "      <td>kaitlinkaiser@example.com</td>\n",
       "      <td>584.094.6111</td>\n",
       "      <td>03-08-2017</td>\n",
       "      <td>Market researcher</td>\n",
       "    </tr>\n",
       "    <tr>\n",
       "      <th>4</th>\n",
       "      <td>5</td>\n",
       "      <td>1bA7A3dc874da3c</td>\n",
       "      <td>Lori</td>\n",
       "      <td>Todd</td>\n",
       "      <td>Male</td>\n",
       "      <td>buchananmanuel@example.net</td>\n",
       "      <td>689-207-3558x7233</td>\n",
       "      <td>01-12-1938</td>\n",
       "      <td>Veterinary surgeon</td>\n",
       "    </tr>\n",
       "    <tr>\n",
       "      <th>5</th>\n",
       "      <td>6</td>\n",
       "      <td>bfDD7CDEF5D865B</td>\n",
       "      <td>Erin</td>\n",
       "      <td>Day</td>\n",
       "      <td>Male</td>\n",
       "      <td>tconner@example.org</td>\n",
       "      <td>001-171-649-9856x5553</td>\n",
       "      <td>28-10-2015</td>\n",
       "      <td>Waste management officer</td>\n",
       "    </tr>\n",
       "    <tr>\n",
       "      <th>6</th>\n",
       "      <td>7</td>\n",
       "      <td>bE9EEf34cB72AF7</td>\n",
       "      <td>Katherine</td>\n",
       "      <td>Buck</td>\n",
       "      <td>Female</td>\n",
       "      <td>conniecowan@example.com</td>\n",
       "      <td>+1-773-151-6685x49162</td>\n",
       "      <td>22-01-1989</td>\n",
       "      <td>Intelligence analyst</td>\n",
       "    </tr>\n",
       "    <tr>\n",
       "      <th>7</th>\n",
       "      <td>8</td>\n",
       "      <td>2EFC6A4e77FaEaC</td>\n",
       "      <td>Ricardo</td>\n",
       "      <td>Hinton</td>\n",
       "      <td>NaN</td>\n",
       "      <td>wyattbishop@example.com</td>\n",
       "      <td>001-447-699-7998x88612</td>\n",
       "      <td>26-03-1924</td>\n",
       "      <td>Hydrogeologist</td>\n",
       "    </tr>\n",
       "    <tr>\n",
       "      <th>8</th>\n",
       "      <td>9</td>\n",
       "      <td>baDcC4DeefD8dEB</td>\n",
       "      <td>Dave</td>\n",
       "      <td>Farrell</td>\n",
       "      <td>Male</td>\n",
       "      <td>nmccann@example.net</td>\n",
       "      <td>603-428-2429x27392</td>\n",
       "      <td>06-10-2018</td>\n",
       "      <td>Lawyer</td>\n",
       "    </tr>\n",
       "    <tr>\n",
       "      <th>9</th>\n",
       "      <td>10</td>\n",
       "      <td>8e4FB470FE19bF0</td>\n",
       "      <td>Isaiah</td>\n",
       "      <td>Downs</td>\n",
       "      <td>Male</td>\n",
       "      <td>virginiaterrell@example.org</td>\n",
       "      <td>+1-511-372-1544x8206</td>\n",
       "      <td>20-09-1964</td>\n",
       "      <td>Engineer, site</td>\n",
       "    </tr>\n",
       "    <tr>\n",
       "      <th>10</th>\n",
       "      <td>11</td>\n",
       "      <td>BF0BbA03C29Bb3b</td>\n",
       "      <td>Sheila</td>\n",
       "      <td>Ross</td>\n",
       "      <td>Female</td>\n",
       "      <td>huangcathy@example.com</td>\n",
       "      <td>895.881.4746</td>\n",
       "      <td>20-03-2008</td>\n",
       "      <td>Advertising account executive</td>\n",
       "    </tr>\n",
       "  </tbody>\n",
       "</table>\n",
       "</div>"
      ],
      "text/plain": [
       "    Index          User Id First Name Last Name  Gender  \\\n",
       "0       1  88F7B33d2bcf9f5     Shelby   Terrell    Male   \n",
       "1       2  f90cD3E76f1A9b9    Phillip   Summers  Female   \n",
       "2       3  DbeAb8CcdfeFC2c   Kristine    Travis    Male   \n",
       "3       4  A31Bee3c201ef58    Yesenia  Martinez    Male   \n",
       "4       5  1bA7A3dc874da3c       Lori      Todd    Male   \n",
       "5       6  bfDD7CDEF5D865B       Erin       Day    Male   \n",
       "6       7  bE9EEf34cB72AF7  Katherine      Buck  Female   \n",
       "7       8  2EFC6A4e77FaEaC    Ricardo    Hinton     NaN   \n",
       "8       9  baDcC4DeefD8dEB       Dave   Farrell    Male   \n",
       "9      10  8e4FB470FE19bF0     Isaiah     Downs    Male   \n",
       "10     11  BF0BbA03C29Bb3b     Sheila      Ross  Female   \n",
       "\n",
       "                          Email                   Phone Date of birth  \\\n",
       "0          elijah57@example.net  001-084-906-7849x73518    26-10-1945   \n",
       "1         bethany14@example.com       214.112.6044x4913    24-03-1910   \n",
       "2         bthompson@example.com            277.609.7938    02-07-1992   \n",
       "3     kaitlinkaiser@example.com            584.094.6111    03-08-2017   \n",
       "4    buchananmanuel@example.net       689-207-3558x7233    01-12-1938   \n",
       "5           tconner@example.org   001-171-649-9856x5553    28-10-2015   \n",
       "6       conniecowan@example.com   +1-773-151-6685x49162    22-01-1989   \n",
       "7       wyattbishop@example.com  001-447-699-7998x88612    26-03-1924   \n",
       "8           nmccann@example.net      603-428-2429x27392    06-10-2018   \n",
       "9   virginiaterrell@example.org    +1-511-372-1544x8206    20-09-1964   \n",
       "10       huangcathy@example.com            895.881.4746    20-03-2008   \n",
       "\n",
       "                        Job Title  \n",
       "0                 Games developer  \n",
       "1                  Phytotherapist  \n",
       "2                       Homeopath  \n",
       "3               Market researcher  \n",
       "4              Veterinary surgeon  \n",
       "5        Waste management officer  \n",
       "6            Intelligence analyst  \n",
       "7                  Hydrogeologist  \n",
       "8                          Lawyer  \n",
       "9                  Engineer, site  \n",
       "10  Advertising account executive  "
      ]
     },
     "execution_count": 8,
     "metadata": {},
     "output_type": "execute_result"
    }
   ],
   "source": [
    "df.head(11)"
   ]
  },
  {
   "cell_type": "markdown",
   "id": "d831a47b",
   "metadata": {},
   "source": [
    "## Task 1 : Display the attributes with missing values"
   ]
  },
  {
   "cell_type": "markdown",
   "id": "3792847e",
   "metadata": {},
   "source": [
    "**dataframe.isnull()** : will return a DataFrame of the same shape as df, where each element is True if the corresponding element in df is null and False otherwise."
   ]
  },
  {
   "cell_type": "code",
   "execution_count": 11,
   "id": "aa6ba037",
   "metadata": {},
   "outputs": [
    {
     "data": {
      "text/html": [
       "<div>\n",
       "<style scoped>\n",
       "    .dataframe tbody tr th:only-of-type {\n",
       "        vertical-align: middle;\n",
       "    }\n",
       "\n",
       "    .dataframe tbody tr th {\n",
       "        vertical-align: top;\n",
       "    }\n",
       "\n",
       "    .dataframe thead th {\n",
       "        text-align: right;\n",
       "    }\n",
       "</style>\n",
       "<table border=\"1\" class=\"dataframe\">\n",
       "  <thead>\n",
       "    <tr style=\"text-align: right;\">\n",
       "      <th></th>\n",
       "      <th>Index</th>\n",
       "      <th>User Id</th>\n",
       "      <th>First Name</th>\n",
       "      <th>Last Name</th>\n",
       "      <th>Gender</th>\n",
       "      <th>Email</th>\n",
       "      <th>Phone</th>\n",
       "      <th>Date of birth</th>\n",
       "      <th>Job Title</th>\n",
       "    </tr>\n",
       "  </thead>\n",
       "  <tbody>\n",
       "    <tr>\n",
       "      <th>0</th>\n",
       "      <td>False</td>\n",
       "      <td>False</td>\n",
       "      <td>False</td>\n",
       "      <td>False</td>\n",
       "      <td>False</td>\n",
       "      <td>False</td>\n",
       "      <td>False</td>\n",
       "      <td>False</td>\n",
       "      <td>False</td>\n",
       "    </tr>\n",
       "    <tr>\n",
       "      <th>1</th>\n",
       "      <td>False</td>\n",
       "      <td>False</td>\n",
       "      <td>False</td>\n",
       "      <td>False</td>\n",
       "      <td>False</td>\n",
       "      <td>False</td>\n",
       "      <td>False</td>\n",
       "      <td>False</td>\n",
       "      <td>False</td>\n",
       "    </tr>\n",
       "    <tr>\n",
       "      <th>2</th>\n",
       "      <td>False</td>\n",
       "      <td>False</td>\n",
       "      <td>False</td>\n",
       "      <td>False</td>\n",
       "      <td>False</td>\n",
       "      <td>False</td>\n",
       "      <td>False</td>\n",
       "      <td>False</td>\n",
       "      <td>False</td>\n",
       "    </tr>\n",
       "    <tr>\n",
       "      <th>3</th>\n",
       "      <td>False</td>\n",
       "      <td>False</td>\n",
       "      <td>False</td>\n",
       "      <td>False</td>\n",
       "      <td>False</td>\n",
       "      <td>False</td>\n",
       "      <td>False</td>\n",
       "      <td>False</td>\n",
       "      <td>False</td>\n",
       "    </tr>\n",
       "    <tr>\n",
       "      <th>4</th>\n",
       "      <td>False</td>\n",
       "      <td>False</td>\n",
       "      <td>False</td>\n",
       "      <td>False</td>\n",
       "      <td>False</td>\n",
       "      <td>False</td>\n",
       "      <td>False</td>\n",
       "      <td>False</td>\n",
       "      <td>False</td>\n",
       "    </tr>\n",
       "    <tr>\n",
       "      <th>...</th>\n",
       "      <td>...</td>\n",
       "      <td>...</td>\n",
       "      <td>...</td>\n",
       "      <td>...</td>\n",
       "      <td>...</td>\n",
       "      <td>...</td>\n",
       "      <td>...</td>\n",
       "      <td>...</td>\n",
       "      <td>...</td>\n",
       "    </tr>\n",
       "    <tr>\n",
       "      <th>95</th>\n",
       "      <td>False</td>\n",
       "      <td>False</td>\n",
       "      <td>False</td>\n",
       "      <td>False</td>\n",
       "      <td>False</td>\n",
       "      <td>False</td>\n",
       "      <td>False</td>\n",
       "      <td>False</td>\n",
       "      <td>False</td>\n",
       "    </tr>\n",
       "    <tr>\n",
       "      <th>96</th>\n",
       "      <td>False</td>\n",
       "      <td>False</td>\n",
       "      <td>False</td>\n",
       "      <td>False</td>\n",
       "      <td>False</td>\n",
       "      <td>False</td>\n",
       "      <td>False</td>\n",
       "      <td>True</td>\n",
       "      <td>False</td>\n",
       "    </tr>\n",
       "    <tr>\n",
       "      <th>97</th>\n",
       "      <td>False</td>\n",
       "      <td>False</td>\n",
       "      <td>False</td>\n",
       "      <td>False</td>\n",
       "      <td>False</td>\n",
       "      <td>False</td>\n",
       "      <td>False</td>\n",
       "      <td>False</td>\n",
       "      <td>False</td>\n",
       "    </tr>\n",
       "    <tr>\n",
       "      <th>98</th>\n",
       "      <td>False</td>\n",
       "      <td>False</td>\n",
       "      <td>False</td>\n",
       "      <td>False</td>\n",
       "      <td>False</td>\n",
       "      <td>False</td>\n",
       "      <td>False</td>\n",
       "      <td>False</td>\n",
       "      <td>False</td>\n",
       "    </tr>\n",
       "    <tr>\n",
       "      <th>99</th>\n",
       "      <td>False</td>\n",
       "      <td>False</td>\n",
       "      <td>False</td>\n",
       "      <td>False</td>\n",
       "      <td>False</td>\n",
       "      <td>False</td>\n",
       "      <td>False</td>\n",
       "      <td>False</td>\n",
       "      <td>False</td>\n",
       "    </tr>\n",
       "  </tbody>\n",
       "</table>\n",
       "<p>100 rows × 9 columns</p>\n",
       "</div>"
      ],
      "text/plain": [
       "    Index  User Id  First Name  Last Name  Gender  Email  Phone  \\\n",
       "0   False    False       False      False   False  False  False   \n",
       "1   False    False       False      False   False  False  False   \n",
       "2   False    False       False      False   False  False  False   \n",
       "3   False    False       False      False   False  False  False   \n",
       "4   False    False       False      False   False  False  False   \n",
       "..    ...      ...         ...        ...     ...    ...    ...   \n",
       "95  False    False       False      False   False  False  False   \n",
       "96  False    False       False      False   False  False  False   \n",
       "97  False    False       False      False   False  False  False   \n",
       "98  False    False       False      False   False  False  False   \n",
       "99  False    False       False      False   False  False  False   \n",
       "\n",
       "    Date of birth  Job Title  \n",
       "0           False      False  \n",
       "1           False      False  \n",
       "2           False      False  \n",
       "3           False      False  \n",
       "4           False      False  \n",
       "..            ...        ...  \n",
       "95          False      False  \n",
       "96           True      False  \n",
       "97          False      False  \n",
       "98          False      False  \n",
       "99          False      False  \n",
       "\n",
       "[100 rows x 9 columns]"
      ]
     },
     "execution_count": 11,
     "metadata": {},
     "output_type": "execute_result"
    }
   ],
   "source": [
    "missing_value=df.isnull()\n",
    "missing_value"
   ]
  },
  {
   "cell_type": "code",
   "execution_count": 13,
   "id": "d42fe53d",
   "metadata": {},
   "outputs": [],
   "source": [
    "missing_value=df.isnull().sum()"
   ]
  },
  {
   "cell_type": "markdown",
   "id": "dfba8ec2",
   "metadata": {},
   "source": [
    "- This expression is a common way to count the number of missing values (null values) in each column of a DataFrame.<br>\n",
    "- **.sum()** calculates the sum of each column in the DataFrame obtained from step 1. Since True is treated as 1 and False as 0 in numerical operations in "
   ]
  },
  {
   "cell_type": "code",
   "execution_count": 14,
   "id": "1c6d81a5",
   "metadata": {},
   "outputs": [
    {
     "data": {
      "text/plain": [
       "Index            0\n",
       "User Id          0\n",
       "First Name       0\n",
       "Last Name        0\n",
       "Gender           6\n",
       "Email            0\n",
       "Phone            0\n",
       "Date of birth    7\n",
       "Job Title        0\n",
       "dtype: int64"
      ]
     },
     "execution_count": 14,
     "metadata": {},
     "output_type": "execute_result"
    }
   ],
   "source": [
    "missing_value"
   ]
  },
  {
   "cell_type": "code",
   "execution_count": 18,
   "id": "e526059e",
   "metadata": {},
   "outputs": [
    {
     "data": {
      "text/plain": [
       "pandas.core.series.Series"
      ]
     },
     "execution_count": 18,
     "metadata": {},
     "output_type": "execute_result"
    }
   ],
   "source": [
    "type(missing_value)"
   ]
  },
  {
   "cell_type": "code",
   "execution_count": 4,
   "id": "0d6da92d",
   "metadata": {},
   "outputs": [
    {
     "name": "stdout",
     "output_type": "stream",
     "text": [
      "Attributes with missing values:\n",
      "Gender           6\n",
      "Date of birth    7\n",
      "dtype: int64\n"
     ]
    }
   ],
   "source": [
    "attribute=missing_value[missing_value > 0]\n",
    "print(\"Attributes with missing values:\")\n",
    "print(attribute)"
   ]
  },
  {
   "cell_type": "markdown",
   "id": "4c4d76cb",
   "metadata": {},
   "source": [
    "#### Using Heatmap to show the Missing values visually"
   ]
  },
  {
   "cell_type": "code",
   "execution_count": 17,
   "id": "c011593f",
   "metadata": {},
   "outputs": [
    {
     "data": {
      "text/plain": [
       "<Axes: >"
      ]
     },
     "execution_count": 17,
     "metadata": {},
     "output_type": "execute_result"
    },
    {
     "data": {
      "image/png": "[encoded data removed]",
      "text/plain": [
       "<Figure size 640x480 with 1 Axes>"
      ]
     },
     "metadata": {},
     "output_type": "display_data"
    }
   ],
   "source": [
    "import seaborn as sns\n",
    "sns.heatmap(df.isnull(),yticklabels=False,cbar=False, cmap='viridis')"
   ]
  },
  {
   "cell_type": "markdown",
   "id": "e9828081",
   "metadata": {},
   "source": [
    "## Task2 : User IDs with erroneous values for gender"
   ]
  },
  {
   "cell_type": "code",
   "execution_count": null,
   "id": "cf23b19f",
   "metadata": {},
   "outputs": [],
   "source": [
    "erroneous_gender=df.loc[~df['Gender'].isin(['Male', 'Female']), 'User Id']"
   ]
  },
  {
   "cell_type": "markdown",
   "id": "53a9140c",
   "metadata": {},
   "source": [
    "- **~df['Gender'].isin(['Male', 'Female'])** returns True for rows where the 'Gender' column is not 'Male' or 'Female'.\n",
    "<br>\n",
    "\n",
    "\n",
    "- **df.loc[]**: This is used to access a group of rows and columns by labels or a boolean array. In this case, it filters the rows where the condition ~df['Gender'].isin(['Male', 'Female']) is True.\n",
    "\n",
    "\n",
    "\n",
    "- above expression selects the 'User Id' column from the rows where the condition ~df['Gender'].isin(['Male', 'Female']) is True."
   ]
  },
  {
   "cell_type": "code",
   "execution_count": 20,
   "id": "7da13c02",
   "metadata": {},
   "outputs": [
    {
     "name": "stdout",
     "output_type": "stream",
     "text": [
      "User IDs with erroneous values for gender:\n",
      "7     2EFC6A4e77FaEaC\n",
      "11    F738c69fB34E62E\n",
      "15    50Bb061cB30B461\n",
      "20    b31D271F8c200AB\n",
      "37    ACcde95AAe3e6cC\n",
      "39    e92A191E345fA3A\n",
      "65    cEf02C076afa07f\n",
      "76    dade3452F0c32FD\n",
      "90    F0aeC9c2759F3C6\n",
      "Name: User Id, dtype: object\n"
     ]
    }
   ],
   "source": [
    "print(\"User IDs with erroneous values for gender:\")\n",
    "print(erroneous_gender)"
   ]
  }
 ],
 "metadata": {
  "kernelspec": {
   "display_name": "Python 3 (ipykernel)",
   "language": "python",
   "name": "python3"
  },
  "language_info": {
   "codemirror_mode": {
    "name": "ipython",
    "version": 3
   },
   "file_extension": ".py",
   "mimetype": "text/x-python",
   "name": "python",
   "nbconvert_exporter": "python",
   "pygments_lexer": "ipython3",
   "version": "3.9.18"
  }
 },
 "nbformat": 4,
 "nbformat_minor": 5
}
