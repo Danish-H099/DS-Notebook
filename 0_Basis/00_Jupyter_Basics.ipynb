{
 "cells": [
  {
   "cell_type": "markdown",
   "id": "6fd54303",
   "metadata": {},
   "source": [
    "# Python and ML practice\n",
    "## Learning from Krish Naik (Youtube)\n",
    "### Author - Danish Hussain Dar\n",
    "#### Date Start - 09-01-24"
   ]
  },
  {
   "cell_type": "markdown",
   "id": "224bf350",
   "metadata": {},
   "source": [
    "# ----------------------------------------------------------------------------------\n",
    "Create above Markdowns by selecting \"Markdown\" above\n",
    "# ----------------------------------------------------------------------------------"
   ]
  },
  {
   "cell_type": "markdown",
   "id": "2140872c",
   "metadata": {},
   "source": [
    "\n",
    "\n",
    "## Important Shortcuts\n",
    "#### Esc + A\n",
    "Gives us a Cell above a selected cell\n",
    "#### Ctrl+Enter\n",
    "To run the current cell  .\n",
    "#### Shift+Enter\n",
    "To run the current cell and advance to the next. \n",
    "#### You can run multiple cells by selecting Run All, Run All Above, or Run All Below."
   ]
  },
  {
   "cell_type": "markdown",
   "id": "30f9b790",
   "metadata": {},
   "source": [
    "# --------------------------------------------------------------------------------"
   ]
  },
  {
   "cell_type": "markdown",
   "id": "22db7fcb",
   "metadata": {},
   "source": [
    " - The IPython kernel is responsible for running the computations and communicating with the Jupyter Notebook front-end interface. . If you code stucks go to the \"Kernel\" and \"Restart\" it.\n",
    " \n",
    " - A checkpoint in a Jupyter notebook is a saved version of the notebook that can be restored if the notebook is lost or corrupted. Checkpoints are created automatically by Jupyter every few minutes, and they can also be created manually by the user. To create a manual checkpoint, click on the \"File\" menu and select \"Save and Checkpoint.\"\n",
    " \n",
    "- The Jupyter Notebook is an interactive development environment for creating and sharing documents that contain live code, equations, visualizations, and narrative text. Terminals provide a way to run system commands and scripts within the Jupyter Notebook environment.\n",
    "- This can be useful for a variety of tasks, such as:\n",
    "    - Installing and managing Python packages\n",
    "    - Running code that is not compatible with the Jupyter Notebook kernel\n",
    "    - Accessing files and directories on the system\n",
    "    - Configuring the Jupyter Notebook environment"
   ]
  },
  {
   "cell_type": "code",
   "execution_count": 1,
   "id": "d411482e",
   "metadata": {},
   "outputs": [
    {
     "data": {
      "text/plain": [
       "5"
      ]
     },
     "execution_count": 1,
     "metadata": {},
     "output_type": "execute_result"
    }
   ],
   "source": [
    "2+3"
   ]
  },
  {
   "cell_type": "code",
   "execution_count": 4,
   "id": "283d3fb7",
   "metadata": {},
   "outputs": [
    {
     "data": {
      "text/plain": [
       "'Danish Danish Danish Danish '"
      ]
     },
     "execution_count": 4,
     "metadata": {},
     "output_type": "execute_result"
    }
   ],
   "source": [
    "4*\"Danish \""
   ]
  },
  {
   "cell_type": "code",
   "execution_count": 5,
   "id": "b8527ccc",
   "metadata": {},
   "outputs": [
    {
     "data": {
      "text/plain": [
       "1000"
      ]
     },
     "execution_count": 5,
     "metadata": {},
     "output_type": "execute_result"
    }
   ],
   "source": [
    "10**3"
   ]
  },
  {
   "cell_type": "code",
   "execution_count": 6,
   "id": "f3aa439c",
   "metadata": {},
   "outputs": [
    {
     "data": {
      "text/plain": [
       "float"
      ]
     },
     "execution_count": 6,
     "metadata": {},
     "output_type": "execute_result"
    }
   ],
   "source": [
    "type(11.1)"
   ]
  },
  {
   "cell_type": "code",
   "execution_count": 13,
   "id": "c7c233ea",
   "metadata": {},
   "outputs": [
    {
     "data": {
      "text/plain": [
       "bool"
      ]
     },
     "execution_count": 13,
     "metadata": {},
     "output_type": "execute_result"
    }
   ],
   "source": [
    "type(True)\n",
    "# Just before the bracket of a function press \"shift + Tab\" you will get all the details associated of that fucntion."
   ]
  },
  {
   "cell_type": "code",
   "execution_count": 9,
   "id": "8d70d685",
   "metadata": {},
   "outputs": [],
   "source": [
    "a=2\n",
    "b=3"
   ]
  },
  {
   "cell_type": "code",
   "execution_count": 14,
   "id": "d3161150",
   "metadata": {},
   "outputs": [
    {
     "name": "stdout",
     "output_type": "stream",
     "text": [
      "5\n"
     ]
    }
   ],
   "source": [
    "print((a+b)*(b-a))"
   ]
  }
 ],
 "metadata": {
  "kernelspec": {
   "display_name": "Python 3 (ipykernel)",
   "language": "python",
   "name": "python3"
  },
  "language_info": {
   "codemirror_mode": {
    "name": "ipython",
    "version": 3
   },
   "file_extension": ".py",
   "mimetype": "text/x-python",
   "name": "python",
   "nbconvert_exporter": "python",
   "pygments_lexer": "ipython3",
   "version": "3.9.18"
  }
 },
 "nbformat": 4,
 "nbformat_minor": 5
}
