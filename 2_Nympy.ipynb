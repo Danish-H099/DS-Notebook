{
 "cells": [
  {
   "cell_type": "markdown",
   "id": "aca6c90f",
   "metadata": {},
   "source": [
    "# Numpy\n",
    "- Numpy is a general-purpose array-processing package. \n",
    "- It provides a high-performance multidimensional array object, and tools for working with these arrays. "
   ]
  },
  {
   "cell_type": "code",
   "execution_count": 73,
   "id": "4125d11b",
   "metadata": {},
   "outputs": [],
   "source": [
    "import numpy as np"
   ]
  },
  {
   "cell_type": "markdown",
   "id": "f1bc2cbb",
   "metadata": {},
   "source": [
    "- use conda to install the library if numpy not already installed"
   ]
  },
  {
   "cell_type": "markdown",
   "id": "c4aa3127",
   "metadata": {},
   "source": [
    "# Array\n",
    "- Array is a data structure that stores values of same data type. \n",
    "- Python lists can contain values corresponding to differeant data types, arrays in python can only contain values corresponding to same data type.\n",
    "- Though list can completely replace array still we use arrays in ML cause operation on arrays are very fast than the list."
   ]
  },
  {
   "cell_type": "markdown",
   "id": "42966fd0",
   "metadata": {},
   "source": [
    "## Creating an Array\n",
    "Converting a list to an array using array() method of numpy."
   ]
  },
  {
   "cell_type": "code",
   "execution_count": 74,
   "id": "ed1ce630",
   "metadata": {},
   "outputs": [
    {
     "name": "stdout",
     "output_type": "stream",
     "text": [
      "[1, 2, 3]\n",
      "[1 2 3]\n"
     ]
    }
   ],
   "source": [
    "a=[1,2,3] # a list\n",
    "print(a)\n",
    "arr=np.array(a) # converting list to an array(Similar data type only)\n",
    "print(arr)\n",
    "#a = np.array([1, 2, 3]) --> Another short way to initialise array"
   ]
  },
  {
   "cell_type": "code",
   "execution_count": 75,
   "id": "4fe2c06e",
   "metadata": {},
   "outputs": [
    {
     "name": "stdout",
     "output_type": "stream",
     "text": [
      "[1, 2, 3, 3.3]\n",
      "[1.  2.  3.  3.3]\n"
     ]
    }
   ],
   "source": [
    "a=[1,2,3,3.3] # int + float\n",
    "print(a)\n",
    "arr=np.array(a) # all elements of array to be float only\n",
    "print(arr)"
   ]
  },
  {
   "cell_type": "code",
   "execution_count": 76,
   "id": "d775ee0b",
   "metadata": {},
   "outputs": [
    {
     "name": "stdout",
     "output_type": "stream",
     "text": [
      "[1, 2, 3, False]\n",
      "[1 2 3 0]\n"
     ]
    }
   ],
   "source": [
    "a=[1,2,3,False] # int + boolean\n",
    "print(a)\n",
    "arr=np.array(a) # all elements of array to be int only\n",
    "print(arr)"
   ]
  },
  {
   "cell_type": "code",
   "execution_count": 77,
   "id": "c530402f",
   "metadata": {},
   "outputs": [
    {
     "name": "stdout",
     "output_type": "stream",
     "text": [
      "[1, 2, 3, False, 'a']\n",
      "['1' '2' '3' 'False' 'a']\n"
     ]
    }
   ],
   "source": [
    "a=[1,2,3,False,\"a\"] # int + boolean + string\n",
    "print(a)\n",
    "arr=np.array(a) # all elements of array to be string only\n",
    "print(arr)"
   ]
  },
  {
   "cell_type": "code",
   "execution_count": 78,
   "id": "419cd821",
   "metadata": {},
   "outputs": [
    {
     "data": {
      "text/plain": [
       "(5,)"
      ]
     },
     "execution_count": 78,
     "metadata": {},
     "output_type": "execute_result"
    }
   ],
   "source": [
    "arr.shape # (rows, columns) "
   ]
  },
  {
   "cell_type": "markdown",
   "id": "8d72fae2",
   "metadata": {},
   "source": [
    "## Multi-Dimensional Array"
   ]
  },
  {
   "cell_type": "code",
   "execution_count": 79,
   "id": "13852000",
   "metadata": {},
   "outputs": [
    {
     "name": "stdout",
     "output_type": "stream",
     "text": [
      "[[1 2 3]\n",
      " [4 5 6]\n",
      " [7 8 9]\n",
      " [1 2 3]]\n"
     ]
    }
   ],
   "source": [
    "l1 = [1, 2, 3]\n",
    "l2 = [4, 5, 6]\n",
    "l3 = [7, 8, 9]\n",
    "arr2d = np.array([l1,l2,l3,l1])\n",
    "print(arr2d)\n",
    "# arr2d = np.array([[1, 2, 3], [4, 5, 6], [7, 8, 9]]) "
   ]
  },
  {
   "cell_type": "code",
   "execution_count": 80,
   "id": "4fd74333",
   "metadata": {},
   "outputs": [
    {
     "data": {
      "text/plain": [
       "(4, 3)"
      ]
     },
     "execution_count": 80,
     "metadata": {},
     "output_type": "execute_result"
    }
   ],
   "source": [
    "arr2d.shape"
   ]
  },
  {
   "cell_type": "markdown",
   "id": "6b32652c",
   "metadata": {},
   "source": [
    "## Slicing\n"
   ]
  },
  {
   "cell_type": "code",
   "execution_count": 81,
   "id": "d5cbe196",
   "metadata": {},
   "outputs": [],
   "source": [
    "arr=np.array([1,2,3,4,5,6,7,8])"
   ]
  },
  {
   "cell_type": "code",
   "execution_count": 82,
   "id": "ce5889d6",
   "metadata": {},
   "outputs": [
    {
     "data": {
      "text/plain": [
       "array([1, 2, 3, 4, 5, 6, 7, 8])"
      ]
     },
     "execution_count": 82,
     "metadata": {},
     "output_type": "execute_result"
    }
   ],
   "source": [
    "arr"
   ]
  },
  {
   "cell_type": "code",
   "execution_count": 83,
   "id": "5c3ef5b7",
   "metadata": {},
   "outputs": [
    {
     "data": {
      "text/plain": [
       "4"
      ]
     },
     "execution_count": 83,
     "metadata": {},
     "output_type": "execute_result"
    }
   ],
   "source": [
    "arr[3]"
   ]
  },
  {
   "cell_type": "code",
   "execution_count": 84,
   "id": "82a1a84a",
   "metadata": {},
   "outputs": [
    {
     "data": {
      "text/plain": [
       "array([1, 2, 3])"
      ]
     },
     "execution_count": 84,
     "metadata": {},
     "output_type": "execute_result"
    }
   ],
   "source": [
    "arr[0:3]"
   ]
  },
  {
   "cell_type": "code",
   "execution_count": 85,
   "id": "19536bd9",
   "metadata": {},
   "outputs": [
    {
     "data": {
      "text/plain": [
       "array([4, 5, 6, 7, 8])"
      ]
     },
     "execution_count": 85,
     "metadata": {},
     "output_type": "execute_result"
    }
   ],
   "source": [
    "arr[3:]"
   ]
  },
  {
   "cell_type": "markdown",
   "id": "9bf87b5e",
   "metadata": {},
   "source": [
    "#### 2-D Slicing"
   ]
  },
  {
   "cell_type": "code",
   "execution_count": 86,
   "id": "07313efb",
   "metadata": {},
   "outputs": [
    {
     "data": {
      "text/plain": [
       "array([[ 1,  2,  3],\n",
       "       [ 4,  5,  6],\n",
       "       [ 7,  8,  9],\n",
       "       [10, 11, 12]])"
      ]
     },
     "execution_count": 86,
     "metadata": {},
     "output_type": "execute_result"
    }
   ],
   "source": [
    "arr2d = np.array([[1, 2, 3], [4, 5, 6], [7, 8, 9],[10,11,12]]) \n",
    "arr2d"
   ]
  },
  {
   "cell_type": "code",
   "execution_count": 87,
   "id": "a1645212",
   "metadata": {},
   "outputs": [
    {
     "data": {
      "text/plain": [
       "array([[5, 6],\n",
       "       [8, 9]])"
      ]
     },
     "execution_count": 87,
     "metadata": {},
     "output_type": "execute_result"
    }
   ],
   "source": [
    "arr2d[1:3,1:]"
   ]
  },
  {
   "cell_type": "markdown",
   "id": "49ce5144",
   "metadata": {},
   "source": [
    "## Copying the array"
   ]
  },
  {
   "cell_type": "code",
   "execution_count": 88,
   "id": "6ee2a85e",
   "metadata": {},
   "outputs": [
    {
     "data": {
      "text/plain": [
       "array([1, 2, 3, 4, 5, 6, 7, 8])"
      ]
     },
     "execution_count": 88,
     "metadata": {},
     "output_type": "execute_result"
    }
   ],
   "source": [
    "arr1=arr # arr1 is a reference to arr array\n",
    "arr1"
   ]
  },
  {
   "cell_type": "code",
   "execution_count": 89,
   "id": "5bc021d3",
   "metadata": {},
   "outputs": [
    {
     "data": {
      "text/plain": [
       "array([  1,   2,   3, 400, 400, 400, 400, 400])"
      ]
     },
     "execution_count": 89,
     "metadata": {},
     "output_type": "execute_result"
    }
   ],
   "source": [
    "arr1[3:]=400\n",
    "arr1"
   ]
  },
  {
   "cell_type": "code",
   "execution_count": 90,
   "id": "2b0f0ace",
   "metadata": {},
   "outputs": [
    {
     "data": {
      "text/plain": [
       "array([  1,   2,   3, 400, 400, 400, 400, 400])"
      ]
     },
     "execution_count": 90,
     "metadata": {},
     "output_type": "execute_result"
    }
   ],
   "source": [
    "arr"
   ]
  },
  {
   "cell_type": "markdown",
   "id": "ccb9c8b5",
   "metadata": {},
   "source": [
    "you just created a reference of 'arr' array so if you bring any change in \"arr1\" your are gonna see those change in \"arr\" also."
   ]
  },
  {
   "cell_type": "code",
   "execution_count": 91,
   "id": "9f6522cf",
   "metadata": {},
   "outputs": [
    {
     "data": {
      "text/plain": [
       "array([  1,   2,   3, 400, 400, 400, 400, 400])"
      ]
     },
     "execution_count": 91,
     "metadata": {},
     "output_type": "execute_result"
    }
   ],
   "source": [
    "arr1=np.copy(arr)\n",
    "arr1"
   ]
  },
  {
   "cell_type": "code",
   "execution_count": 92,
   "id": "c04c376b",
   "metadata": {},
   "outputs": [
    {
     "data": {
      "text/plain": [
       "array([  1,   2,   8, 400, 400, 400, 400, 400])"
      ]
     },
     "execution_count": 92,
     "metadata": {},
     "output_type": "execute_result"
    }
   ],
   "source": [
    "arr1[2]=8\n",
    "arr1"
   ]
  },
  {
   "cell_type": "code",
   "execution_count": 93,
   "id": "7c78fef2",
   "metadata": {},
   "outputs": [
    {
     "data": {
      "text/plain": [
       "array([  1,   2,   3, 400, 400, 400, 400, 400])"
      ]
     },
     "execution_count": 93,
     "metadata": {},
     "output_type": "execute_result"
    }
   ],
   "source": [
    "arr"
   ]
  },
  {
   "cell_type": "markdown",
   "id": "6339b5e6",
   "metadata": {},
   "source": [
    "## Common Methods on Array"
   ]
  },
  {
   "cell_type": "code",
   "execution_count": 94,
   "id": "42ca6262",
   "metadata": {},
   "outputs": [],
   "source": [
    "arr = np.array([1, 2, 3, 4, 5]) "
   ]
  },
  {
   "cell_type": "code",
   "execution_count": 95,
   "id": "ec8bbbce",
   "metadata": {},
   "outputs": [
    {
     "name": "stdout",
     "output_type": "stream",
     "text": [
      "15\n"
     ]
    }
   ],
   "source": [
    "total = np.sum(arr) # Sum of all elements: 15 \n",
    "print(total)"
   ]
  },
  {
   "cell_type": "code",
   "execution_count": 96,
   "id": "5326a6bd",
   "metadata": {},
   "outputs": [
    {
     "name": "stdout",
     "output_type": "stream",
     "text": [
      "3.0\n"
     ]
    }
   ],
   "source": [
    "mean = np.mean(arr) # Mean of elements: 3.0 \n",
    "print(mean)"
   ]
  },
  {
   "cell_type": "code",
   "execution_count": 97,
   "id": "893d5b36",
   "metadata": {},
   "outputs": [
    {
     "name": "stdout",
     "output_type": "stream",
     "text": [
      "5\n"
     ]
    }
   ],
   "source": [
    "maximum = np.max(arr) #Maximum element:5 \n",
    "print(maximum)"
   ]
  },
  {
   "cell_type": "markdown",
   "id": "7a4afe44",
   "metadata": {},
   "source": [
    "## Operations on Arrays"
   ]
  },
  {
   "cell_type": "code",
   "execution_count": 98,
   "id": "1aeb9e67",
   "metadata": {},
   "outputs": [],
   "source": [
    "arr1 = np.array([1, 2, 3])  \n",
    "\n",
    "arr2 = np.array([4, 5, 6])  "
   ]
  },
  {
   "cell_type": "code",
   "execution_count": 99,
   "id": "5d2a80cc",
   "metadata": {},
   "outputs": [
    {
     "name": "stdout",
     "output_type": "stream",
     "text": [
      "[5 7 9]\n"
     ]
    }
   ],
   "source": [
    "# Element-wise addition \n",
    "\n",
    "result = arr1 + arr2      # [5, 7, 9] \n",
    "print(result)"
   ]
  },
  {
   "cell_type": "code",
   "execution_count": 100,
   "id": "61f1dbd7",
   "metadata": {},
   "outputs": [
    {
     "name": "stdout",
     "output_type": "stream",
     "text": [
      "[ 4 10 18]\n"
     ]
    }
   ],
   "source": [
    "# Element-wise multiplication \n",
    "\n",
    "result = arr1 * arr2      # [4, 10, 18] \n",
    "print(result)"
   ]
  },
  {
   "cell_type": "code",
   "execution_count": 101,
   "id": "b084b743",
   "metadata": {},
   "outputs": [
    {
     "name": "stdout",
     "output_type": "stream",
     "text": [
      "32\n"
     ]
    }
   ],
   "source": [
    "# Dot product of two arrays \n",
    "\n",
    "dot_product = np.dot(arr1, arr2)      # 32 \n",
    "print(dot_product)"
   ]
  },
  {
   "cell_type": "markdown",
   "id": "393bab35",
   "metadata": {},
   "source": [
    "# .............."
   ]
  },
  {
   "cell_type": "markdown",
   "id": "349910d8",
   "metadata": {},
   "source": [
    "#### Filtering the array elements out of main array"
   ]
  },
  {
   "cell_type": "code",
   "execution_count": 102,
   "id": "878b007d",
   "metadata": {},
   "outputs": [
    {
     "data": {
      "text/plain": [
       "array([1, 2, 3, 4, 5])"
      ]
     },
     "execution_count": 102,
     "metadata": {},
     "output_type": "execute_result"
    }
   ],
   "source": [
    "arr"
   ]
  },
  {
   "cell_type": "code",
   "execution_count": 103,
   "id": "2a4af19b",
   "metadata": {},
   "outputs": [
    {
     "data": {
      "text/plain": [
       "array([1, 2, 3])"
      ]
     },
     "execution_count": 103,
     "metadata": {},
     "output_type": "execute_result"
    }
   ],
   "source": [
    "val=4\n",
    "arr[arr<val]"
   ]
  },
  {
   "cell_type": "markdown",
   "id": "e68dfa98",
   "metadata": {},
   "source": [
    "#### Creating an array in a range"
   ]
  },
  {
   "cell_type": "code",
   "execution_count": 104,
   "id": "33f774cd",
   "metadata": {},
   "outputs": [
    {
     "data": {
      "text/plain": [
       "array([ 0,  1,  2,  3,  4,  5,  6,  7,  8,  9, 10, 11])"
      ]
     },
     "execution_count": 104,
     "metadata": {},
     "output_type": "execute_result"
    }
   ],
   "source": [
    "arr=np.arange(0,12)\n",
    "arr"
   ]
  },
  {
   "cell_type": "code",
   "execution_count": 105,
   "id": "27f6485d",
   "metadata": {},
   "outputs": [
    {
     "data": {
      "text/plain": [
       "array([ 0,  2,  4,  6,  8, 10])"
      ]
     },
     "execution_count": 105,
     "metadata": {},
     "output_type": "execute_result"
    }
   ],
   "source": [
    "arr=np.arange(0,12,step=2)\n",
    "arr"
   ]
  },
  {
   "cell_type": "markdown",
   "id": "c0d246c2",
   "metadata": {},
   "source": [
    "##### Create an array of 3,4 dimension with Random values between 0-1"
   ]
  },
  {
   "cell_type": "code",
   "execution_count": 106,
   "id": "3cf9b8a8",
   "metadata": {},
   "outputs": [
    {
     "data": {
      "text/plain": [
       "array([[0.658968  , 0.68840129, 0.91284162, 0.45270683],\n",
       "       [0.70204443, 0.00899294, 0.94085108, 0.10645346],\n",
       "       [0.30846612, 0.71657997, 0.22305588, 0.10464189]])"
      ]
     },
     "execution_count": 106,
     "metadata": {},
     "output_type": "execute_result"
    }
   ],
   "source": [
    "np.random.rand(3,4)"
   ]
  },
  {
   "cell_type": "markdown",
   "id": "640651e1",
   "metadata": {},
   "source": [
    "#### Creating array with initial element values 1"
   ]
  },
  {
   "cell_type": "code",
   "execution_count": 107,
   "id": "571d3321",
   "metadata": {},
   "outputs": [
    {
     "data": {
      "text/plain": [
       "array([[1, 1, 1, 1],\n",
       "       [1, 1, 1, 1],\n",
       "       [1, 1, 1, 1]])"
      ]
     },
     "execution_count": 107,
     "metadata": {},
     "output_type": "execute_result"
    }
   ],
   "source": [
    "np.ones((3,4),dtype=int)"
   ]
  }
 ],
 "metadata": {
  "kernelspec": {
   "display_name": "Python 3 (ipykernel)",
   "language": "python",
   "name": "python3"
  },
  "language_info": {
   "codemirror_mode": {
    "name": "ipython",
    "version": 3
   },
   "file_extension": ".py",
   "mimetype": "text/x-python",
   "name": "python",
   "nbconvert_exporter": "python",
   "pygments_lexer": "ipython3",
   "version": "3.9.18"
  }
 },
 "nbformat": 4,
 "nbformat_minor": 5
}
