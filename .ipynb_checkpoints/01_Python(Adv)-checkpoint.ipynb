{
 "cells": [
  {
   "cell_type": "markdown",
   "id": "06d05557",
   "metadata": {},
   "source": [
    "# Functions (Advanced) in Python"
   ]
  },
  {
   "cell_type": "markdown",
   "id": "d1969e3a",
   "metadata": {},
   "source": [
    "# --------------------------------------------------------"
   ]
  },
  {
   "cell_type": "markdown",
   "id": "e5844e61",
   "metadata": {},
   "source": [
    "### Positional Arguments:\n",
    "\n",
    "- These are the most basic type of arguments and are passed to a function based on their position in the function call.\n",
    "- The order in which you pass positional arguments matters."
   ]
  },
  {
   "cell_type": "code",
   "execution_count": 1,
   "id": "4813f147",
   "metadata": {},
   "outputs": [
    {
     "name": "stdout",
     "output_type": "stream",
     "text": [
      "arg1=1,arg2=3,arg3=2\n"
     ]
    }
   ],
   "source": [
    "def example_function(arg1, arg2, arg3):\n",
    "    print(f'arg1={arg1},arg2={arg2},arg3={arg3}')\n",
    "\n",
    "# Function call with positional arguments\n",
    "example_function(1, 3, 2)"
   ]
  },
  {
   "cell_type": "markdown",
   "id": "268922fe",
   "metadata": {},
   "source": [
    "### Keyword Arguments:\n",
    "\n",
    "- Instead of relying on the order of arguments, you can explicitly specify the parameter names along with their values during the function call.\n",
    "- This allows you to provide values for specific parameters regardless of their position in the function signature."
   ]
  },
  {
   "cell_type": "code",
   "execution_count": 2,
   "id": "dcb0f130",
   "metadata": {},
   "outputs": [
    {
     "name": "stdout",
     "output_type": "stream",
     "text": [
      "arg1=1,arg2=2,arg3=3\n"
     ]
    }
   ],
   "source": [
    "def example_function(arg1, arg2, arg3):\n",
    "    print(f'arg1={arg1},arg2={arg2},arg3={arg3}')\n",
    "\n",
    "# Function call with keyword arguments\n",
    "example_function(arg1=1, arg3=3, arg2=2)"
   ]
  },
  {
   "cell_type": "markdown",
   "id": "d673437e",
   "metadata": {},
   "source": [
    "### Default Values:\n",
    "- Parameters with default values become optional, and if they are not provided during the function call, the default values are used."
   ]
  },
  {
   "cell_type": "code",
   "execution_count": 3,
   "id": "d17f9677",
   "metadata": {},
   "outputs": [
    {
     "name": "stdout",
     "output_type": "stream",
     "text": [
      "arg1=1,arg2=0,arg3=42\n",
      "arg1=1,arg2=0,arg3=10\n"
     ]
    }
   ],
   "source": [
    "def example_function(arg1, arg2=0, arg3=42):\n",
    "    print(f'arg1={arg1},arg2={arg2},arg3={arg3}')\n",
    "\n",
    "# Function calls with default values\n",
    "example_function(1)       \n",
    "example_function(1, arg3=10)  "
   ]
  },
  {
   "cell_type": "markdown",
   "id": "fb2807f2",
   "metadata": {},
   "source": [
    "### Printing Positional Arguments (args) and Keyword arguments(kwargs)"
   ]
  },
  {
   "cell_type": "code",
   "execution_count": 4,
   "id": "c1f013ef",
   "metadata": {},
   "outputs": [
    {
     "name": "stdout",
     "output_type": "stream",
     "text": [
      "('Danish', 'Hussain')\n",
      "{'age': 22, 'dob': 2002}\n"
     ]
    }
   ],
   "source": [
    "def hello (*args,**kwargs):\n",
    "    print(args)\n",
    "    print(kwargs)\n",
    "    \n",
    "hello('Danish','Hussain',age=22,dob=2002)"
   ]
  },
  {
   "cell_type": "markdown",
   "id": "a3be516a",
   "metadata": {},
   "source": [
    "we can also provide positional arguments as list and keyword argumetns as dictionary\n"
   ]
  },
  {
   "cell_type": "code",
   "execution_count": 5,
   "id": "bf62be20",
   "metadata": {},
   "outputs": [
    {
     "name": "stdout",
     "output_type": "stream",
     "text": [
      "(['Danish', 'Hussain'], {'age': 22, 'Dob': 2002})\n",
      "{}\n",
      "\n",
      "args and kwargs are taken as args only so we need to make a lil tweek\n",
      "\n",
      "('Danish', 'Hussain')\n",
      "{'age': 22, 'Dob': 2002}\n"
     ]
    }
   ],
   "source": [
    "lst=['Danish','Hussain']\n",
    "dict_args={'age':22,'Dob':2002}\n",
    "\n",
    "hello(lst,dict_args)\n",
    "print(\"\\nargs and kwargs are taken as args only so we need to make a lil tweek\\n\")\n",
    "hello(*lst,**dict_args)"
   ]
  },
  {
   "cell_type": "markdown",
   "id": "86c36e90",
   "metadata": {},
   "source": [
    "# --------------------------------------------------------"
   ]
  },
  {
   "cell_type": "markdown",
   "id": "fb343e15",
   "metadata": {},
   "source": [
    "## Return Multiple values "
   ]
  },
  {
   "cell_type": "code",
   "execution_count": 6,
   "id": "5ab622e1",
   "metadata": {},
   "outputs": [],
   "source": [
    "lst=[1,2,3,4,5,6,7,8,9]"
   ]
  },
  {
   "cell_type": "code",
   "execution_count": 7,
   "id": "54a61d1e",
   "metadata": {},
   "outputs": [],
   "source": [
    "def sum_Even_Odd(lst):\n",
    "    even_Sum=0\n",
    "    odd_Sum=0\n",
    "    for i in lst:\n",
    "        if i%2==0:\n",
    "            even_Sum=even_Sum+i\n",
    "        else:\n",
    "            odd_Sum=odd_Sum+i\n",
    "    return even_Sum,odd_Sum"
   ]
  },
  {
   "cell_type": "code",
   "execution_count": 8,
   "id": "add812c7",
   "metadata": {},
   "outputs": [
    {
     "name": "stdout",
     "output_type": "stream",
     "text": [
      "(20, 25)\n"
     ]
    }
   ],
   "source": [
    "print(sum_Even_Odd(lst))"
   ]
  },
  {
   "cell_type": "markdown",
   "id": "de050cd9",
   "metadata": {},
   "source": [
    "# --------------------------------------------------------"
   ]
  },
  {
   "cell_type": "markdown",
   "id": "19e195e0",
   "metadata": {},
   "source": [
    "## map() Function\n",
    "- is a built-in function that applies a specified function to all items in an input iterable (e.g., a list, tuple, or string)\n",
    "- returns an iterable (usually a map object) that contains the results.\n",
    "- The syntax of the map() function is as follows:\n",
    "##### map(function, iterable, ...)"
   ]
  },
  {
   "cell_type": "code",
   "execution_count": 9,
   "id": "5ab7ddbc",
   "metadata": {},
   "outputs": [
    {
     "name": "stdout",
     "output_type": "stream",
     "text": [
      "[1, 4, 9, 16, 25]\n"
     ]
    }
   ],
   "source": [
    "# Using a regular function\n",
    "def square(x):\n",
    "    return x ** 2\n",
    "\n",
    "numbers = [1, 2, 3, 4, 5]\n",
    "\n",
    "# Using map() to apply the square function to each element in the list\n",
    "result = map(square, numbers)\n",
    "\n",
    "# Converting the map object to a list to see the results\n",
    "result_list = list(result)\n",
    "\n",
    "print(result_list)"
   ]
  },
  {
   "cell_type": "markdown",
   "id": "c0b20f2e",
   "metadata": {},
   "source": [
    "Example:"
   ]
  },
  {
   "cell_type": "code",
   "execution_count": 10,
   "id": "a6cb7fb7",
   "metadata": {},
   "outputs": [
    {
     "name": "stdout",
     "output_type": "stream",
     "text": [
      "The number 1 is odd\n",
      "The number 2 is even\n",
      "The number 3 is odd\n",
      "The number 4 is even\n",
      "The number 5 is odd\n",
      "[None, None, None, None, None]\n"
     ]
    }
   ],
   "source": [
    "def even_or_odd(n):\n",
    "    if n%2==0:\n",
    "        print(f'The number {n} is even')\n",
    "    else:\n",
    "        print(f'The number {n} is odd')\n",
    "        \n",
    "lst=[1,2,3,4,5]\n",
    "result=list(map(even_or_odd,lst))\n",
    "print(result)"
   ]
  },
  {
   "cell_type": "markdown",
   "id": "56505481",
   "metadata": {},
   "source": [
    "# --------------------------------------------------------"
   ]
  },
  {
   "cell_type": "markdown",
   "id": "ef72e519",
   "metadata": {},
   "source": [
    "## Lambda function\n",
    "- is a small, anonymous function.\n",
    "- It is also known as an anonymous function because it doesn't have a name like a regular function defined using the def keyword. "
   ]
  },
  {
   "cell_type": "markdown",
   "id": "af3a4c8e",
   "metadata": {},
   "source": [
    "##### lambda arguments: expression\n",
    "- lambda: indicates the start of the lambda function.\n",
    "- arguments: The input parameters (similar to the arguments in a regular function).\n",
    "- expression: The single expression to be evaluated and returned."
   ]
  },
  {
   "cell_type": "code",
   "execution_count": 11,
   "id": "23403288",
   "metadata": {},
   "outputs": [
    {
     "name": "stdout",
     "output_type": "stream",
     "text": [
      "25\n"
     ]
    }
   ],
   "source": [
    "square = lambda x: x ** 2\n",
    "\n",
    "# Using the lambda function\n",
    "result = square(5)\n",
    "print(result)"
   ]
  },
  {
   "cell_type": "markdown",
   "id": "cfc6cd2c",
   "metadata": {},
   "source": [
    "Lambda functions are often used in conjunction with functions like map(), filter(), and sorted(). \n",
    "\n",
    "For example:"
   ]
  },
  {
   "cell_type": "code",
   "execution_count": 12,
   "id": "93bdc7c6",
   "metadata": {},
   "outputs": [
    {
     "name": "stdout",
     "output_type": "stream",
     "text": [
      "[1, 4, 9, 16, 25]\n"
     ]
    }
   ],
   "source": [
    "numbers = [1, 2, 3, 4, 5]\n",
    "\n",
    "# Using map() with a lambda function to square each element in the list\n",
    "squared_numbers = map(lambda x: x ** 2, numbers)\n",
    "result_list = list(squared_numbers)\n",
    "\n",
    "print(result_list)"
   ]
  },
  {
   "cell_type": "markdown",
   "id": "f159cf5d",
   "metadata": {},
   "source": [
    "# --------------------------------------------------------"
   ]
  },
  {
   "cell_type": "markdown",
   "id": "f5f771d3",
   "metadata": {},
   "source": [
    "## Filter Function\n",
    "- returns an iterator containing the elements from the iterable for which the function returns True."
   ]
  },
  {
   "cell_type": "markdown",
   "id": "205d0c43",
   "metadata": {},
   "source": [
    "The syntax of the filter() function is as follows:\n",
    "##### filter(function, iterable, ...)"
   ]
  },
  {
   "cell_type": "code",
   "execution_count": 13,
   "id": "bd05a6f6",
   "metadata": {},
   "outputs": [],
   "source": [
    "def even(num):\n",
    "    if num%2==0:\n",
    "        return True"
   ]
  },
  {
   "cell_type": "code",
   "execution_count": 14,
   "id": "c4aa9505",
   "metadata": {},
   "outputs": [],
   "source": [
    "lst=[1,2,3,4,5,6,7,8]"
   ]
  },
  {
   "cell_type": "code",
   "execution_count": 16,
   "id": "e7636f09",
   "metadata": {},
   "outputs": [
    {
     "data": {
      "text/plain": [
       "[2, 4, 6, 8]"
      ]
     },
     "execution_count": 16,
     "metadata": {},
     "output_type": "execute_result"
    }
   ],
   "source": [
    "list(filter(even,lst))\n"
   ]
  },
  {
   "cell_type": "markdown",
   "id": "848f5341",
   "metadata": {},
   "source": [
    "Using lambda function"
   ]
  },
  {
   "cell_type": "code",
   "execution_count": 17,
   "id": "59efcd4e",
   "metadata": {},
   "outputs": [
    {
     "data": {
      "text/plain": [
       "[2, 4, 6, 8]"
      ]
     },
     "execution_count": 17,
     "metadata": {},
     "output_type": "execute_result"
    }
   ],
   "source": [
    "list(filter(lambda x:x%2==0,lst))"
   ]
  },
  {
   "cell_type": "markdown",
   "id": "0d75ea91",
   "metadata": {},
   "source": [
    "# --------------------------------------------------------"
   ]
  },
  {
   "cell_type": "markdown",
   "id": "20a7ff4e",
   "metadata": {},
   "source": [
    "# Iterable and Iterator"
   ]
  },
  {
   "cell_type": "markdown",
   "id": "9608e5d5",
   "metadata": {},
   "source": [
    "## Iterable:\n",
    "- is an object that can be iterated (looped) over. It is any Python object capable of returning its elements one at a time.\n",
    "- Examples of iterables include lists, tuples, strings, dictionaries, sets, and more."
   ]
  },
  {
   "cell_type": "code",
   "execution_count": 18,
   "id": "623799bf",
   "metadata": {},
   "outputs": [
    {
     "name": "stdout",
     "output_type": "stream",
     "text": [
      "1\n",
      "2\n",
      "3\n",
      "4\n",
      "5\n"
     ]
    }
   ],
   "source": [
    "my_list = [1, 2, 3, 4, 5]\n",
    "for item in my_list:\n",
    "    print(item)\n"
   ]
  },
  {
   "cell_type": "markdown",
   "id": "10af32b1",
   "metadata": {},
   "source": [
    "In this example, my_list is an iterable, and the for loop iterates over each element in the list."
   ]
  },
  {
   "cell_type": "markdown",
   "id": "624096ed",
   "metadata": {},
   "source": [
    "## Iterator:\n",
    "- is an object representing a stream of data, and it implements two methods: \n",
    "    - __iter__() --> returns the iterator object itself\n",
    "    - __next__() --> returns the next value from the iterator."
   ]
  },
  {
   "cell_type": "code",
   "execution_count": 19,
   "id": "fc9a6ff6",
   "metadata": {},
   "outputs": [
    {
     "name": "stdout",
     "output_type": "stream",
     "text": [
      "1\n",
      "2\n"
     ]
    }
   ],
   "source": [
    "my_list = [1, 2, 3, 4, 5]\n",
    "my_iterator = iter(my_list)\n",
    "\n",
    "print(next(my_iterator)) \n",
    "print(next(my_iterator))"
   ]
  },
  {
   "cell_type": "markdown",
   "id": "e5593091",
   "metadata": {},
   "source": [
    "we can also print the values using for loop"
   ]
  },
  {
   "cell_type": "code",
   "execution_count": 20,
   "id": "7461f720",
   "metadata": {},
   "outputs": [
    {
     "name": "stdout",
     "output_type": "stream",
     "text": [
      "3\n",
      "4\n",
      "5\n"
     ]
    }
   ],
   "source": [
    "for item in my_iterator:\n",
    "    print(item)"
   ]
  },
  {
   "cell_type": "code",
   "execution_count": null,
   "id": "625e4c47",
   "metadata": {},
   "outputs": [],
   "source": []
  }
 ],
 "metadata": {
  "kernelspec": {
   "display_name": "Python 3 (ipykernel)",
   "language": "python",
   "name": "python3"
  },
  "language_info": {
   "codemirror_mode": {
    "name": "ipython",
    "version": 3
   },
   "file_extension": ".py",
   "mimetype": "text/x-python",
   "name": "python",
   "nbconvert_exporter": "python",
   "pygments_lexer": "ipython3",
   "version": "3.9.18"
  }
 },
 "nbformat": 4,
 "nbformat_minor": 5
}
