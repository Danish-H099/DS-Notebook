{
 "cells": [
  {
   "cell_type": "markdown",
   "id": "6c95e0d0",
   "metadata": {},
   "source": [
    "# Artificial Neural Network"
   ]
  },
  {
   "cell_type": "code",
   "execution_count": 1,
   "id": "829855eb",
   "metadata": {},
   "outputs": [],
   "source": [
    "import numpy as np\n",
    "import pandas as pd"
   ]
  },
  {
   "cell_type": "code",
   "execution_count": 4,
   "id": "0bc69988",
   "metadata": {},
   "outputs": [
    {
     "name": "stdout",
     "output_type": "stream",
     "text": [
      "WARNING:tensorflow:From C:\\Users\\91990\\anaconda3\\lib\\site-packages\\keras\\src\\losses.py:2976: The name tf.losses.sparse_softmax_cross_entropy is deprecated. Please use tf.compat.v1.losses.sparse_softmax_cross_entropy instead.\n",
      "\n"
     ]
    }
   ],
   "source": [
    "import tensorflow as tf\n",
    "from tensorflow.keras import layers, models\n",
    "from tensorflow.keras.utils import to_categorical\n",
    "from tensorflow.keras.models import Sequential\n",
    "from tensorflow.keras.layers import Dense"
   ]
  },
  {
   "cell_type": "markdown",
   "id": "1d83e8e4",
   "metadata": {},
   "source": [
    "- Above code imports the necessary modules from TensorFlow for building neural networks using the Keras API.\n",
    "#### layers and models \n",
    "- modules from the tensorflow.keras package. These modules provide tools for building neural network layers and models using the Keras API.\n",
    "#### to_categorical \n",
    "- function from tensorflow.keras.utils. This function is commonly used for one-hot encoding categorical labels.\n",
    "####  Sequential class and the Dense layer \n",
    "- from the tensorflow.keras.models and tensorflow.keras.layers modules, respectively. Sequential is used to create a linear stack of layers for building neural network models, and Dense represents a fully connected layer."
   ]
  },
  {
   "cell_type": "code",
   "execution_count": 5,
   "id": "4b588e9a",
   "metadata": {},
   "outputs": [],
   "source": [
    "df = pd.read_csv(\"apple_quality.csv\")"
   ]
  },
  {
   "cell_type": "code",
   "execution_count": 6,
   "id": "ca266290",
   "metadata": {},
   "outputs": [
    {
     "data": {
      "text/html": [
       "<div>\n",
       "<style scoped>\n",
       "    .dataframe tbody tr th:only-of-type {\n",
       "        vertical-align: middle;\n",
       "    }\n",
       "\n",
       "    .dataframe tbody tr th {\n",
       "        vertical-align: top;\n",
       "    }\n",
       "\n",
       "    .dataframe thead th {\n",
       "        text-align: right;\n",
       "    }\n",
       "</style>\n",
       "<table border=\"1\" class=\"dataframe\">\n",
       "  <thead>\n",
       "    <tr style=\"text-align: right;\">\n",
       "      <th></th>\n",
       "      <th>A_id</th>\n",
       "      <th>Size</th>\n",
       "      <th>Weight</th>\n",
       "      <th>Sweetness</th>\n",
       "      <th>Crunchiness</th>\n",
       "      <th>Juiciness</th>\n",
       "      <th>Ripeness</th>\n",
       "      <th>Acidity</th>\n",
       "      <th>Quality</th>\n",
       "    </tr>\n",
       "  </thead>\n",
       "  <tbody>\n",
       "    <tr>\n",
       "      <th>0</th>\n",
       "      <td>0.0</td>\n",
       "      <td>-3.970049</td>\n",
       "      <td>-2.512336</td>\n",
       "      <td>5.346330</td>\n",
       "      <td>-1.012009</td>\n",
       "      <td>1.844900</td>\n",
       "      <td>0.329840</td>\n",
       "      <td>-0.491590483</td>\n",
       "      <td>good</td>\n",
       "    </tr>\n",
       "    <tr>\n",
       "      <th>1</th>\n",
       "      <td>1.0</td>\n",
       "      <td>-1.195217</td>\n",
       "      <td>-2.839257</td>\n",
       "      <td>3.664059</td>\n",
       "      <td>1.588232</td>\n",
       "      <td>0.853286</td>\n",
       "      <td>0.867530</td>\n",
       "      <td>-0.722809367</td>\n",
       "      <td>good</td>\n",
       "    </tr>\n",
       "    <tr>\n",
       "      <th>2</th>\n",
       "      <td>2.0</td>\n",
       "      <td>-0.292024</td>\n",
       "      <td>-1.351282</td>\n",
       "      <td>-1.738429</td>\n",
       "      <td>-0.342616</td>\n",
       "      <td>2.838636</td>\n",
       "      <td>-0.038033</td>\n",
       "      <td>2.621636473</td>\n",
       "      <td>bad</td>\n",
       "    </tr>\n",
       "    <tr>\n",
       "      <th>3</th>\n",
       "      <td>3.0</td>\n",
       "      <td>-0.657196</td>\n",
       "      <td>-2.271627</td>\n",
       "      <td>1.324874</td>\n",
       "      <td>-0.097875</td>\n",
       "      <td>3.637970</td>\n",
       "      <td>-3.413761</td>\n",
       "      <td>0.790723217</td>\n",
       "      <td>good</td>\n",
       "    </tr>\n",
       "    <tr>\n",
       "      <th>4</th>\n",
       "      <td>4.0</td>\n",
       "      <td>1.364217</td>\n",
       "      <td>-1.296612</td>\n",
       "      <td>-0.384658</td>\n",
       "      <td>-0.553006</td>\n",
       "      <td>3.030874</td>\n",
       "      <td>-1.303849</td>\n",
       "      <td>0.501984036</td>\n",
       "      <td>good</td>\n",
       "    </tr>\n",
       "  </tbody>\n",
       "</table>\n",
       "</div>"
      ],
      "text/plain": [
       "   A_id      Size    Weight  Sweetness  Crunchiness  Juiciness  Ripeness  \\\n",
       "0   0.0 -3.970049 -2.512336   5.346330    -1.012009   1.844900  0.329840   \n",
       "1   1.0 -1.195217 -2.839257   3.664059     1.588232   0.853286  0.867530   \n",
       "2   2.0 -0.292024 -1.351282  -1.738429    -0.342616   2.838636 -0.038033   \n",
       "3   3.0 -0.657196 -2.271627   1.324874    -0.097875   3.637970 -3.413761   \n",
       "4   4.0  1.364217 -1.296612  -0.384658    -0.553006   3.030874 -1.303849   \n",
       "\n",
       "        Acidity Quality  \n",
       "0  -0.491590483    good  \n",
       "1  -0.722809367    good  \n",
       "2   2.621636473     bad  \n",
       "3   0.790723217    good  \n",
       "4   0.501984036    good  "
      ]
     },
     "execution_count": 6,
     "metadata": {},
     "output_type": "execute_result"
    }
   ],
   "source": [
    "df.head()"
   ]
  },
  {
   "cell_type": "code",
   "execution_count": 10,
   "id": "a39f5dac",
   "metadata": {},
   "outputs": [],
   "source": [
    "features = df.iloc[:4000,1:-1].values\n",
    "label = df.iloc[:4000,-1].values"
   ]
  },
  {
   "cell_type": "markdown",
   "id": "67f704d7",
   "metadata": {},
   "source": [
    "Features are the input variables or attributes that are used to make predictions in a machine learning model."
   ]
  },
  {
   "cell_type": "markdown",
   "id": "5107f672",
   "metadata": {},
   "source": [
    "The label, also known as the target variable or output variable, is what you are trying to predict or classify in a supervised learning problem."
   ]
  },
  {
   "cell_type": "code",
   "execution_count": 12,
   "id": "b85c245e",
   "metadata": {},
   "outputs": [
    {
     "name": "stdout",
     "output_type": "stream",
     "text": [
      "[[-3.970048523 -2.512336381 5.346329613 -1.012008712 1.844900361\n",
      "  0.329839797 '-0.491590483']\n",
      " [-1.195217191 -2.839256528 3.664058758 1.588232309 0.853285795\n",
      "  0.867530082 '-0.722809367']\n",
      " [-0.292023862 -1.351281995 -1.738429162 -0.342615928 2.838635512\n",
      "  -0.038033328 '2.621636473']\n",
      " [-0.657195773 -2.271626609 1.324873847 -0.097874716 3.637970491\n",
      "  -3.413761338 '0.790723217']\n",
      " [1.36421682 -1.296611877 -0.384658206 -0.55300577 3.030874354\n",
      "  -1.303849429 '0.501984036']]\n"
     ]
    }
   ],
   "source": [
    "print(features[0:5])"
   ]
  },
  {
   "cell_type": "code",
   "execution_count": 13,
   "id": "e5c9474f",
   "metadata": {},
   "outputs": [
    {
     "name": "stdout",
     "output_type": "stream",
     "text": [
      "['good' 'good' 'bad' 'good' 'good']\n"
     ]
    }
   ],
   "source": [
    "print(label[0:5])"
   ]
  },
  {
   "cell_type": "code",
   "execution_count": 14,
   "id": "aa523c49",
   "metadata": {},
   "outputs": [
    {
     "data": {
      "text/plain": [
       "(4000, 7)"
      ]
     },
     "execution_count": 14,
     "metadata": {},
     "output_type": "execute_result"
    }
   ],
   "source": [
    "features.shape"
   ]
  },
  {
   "cell_type": "code",
   "execution_count": 15,
   "id": "fac05e09",
   "metadata": {},
   "outputs": [
    {
     "data": {
      "text/plain": [
       "(4000,)"
      ]
     },
     "execution_count": 15,
     "metadata": {},
     "output_type": "execute_result"
    }
   ],
   "source": [
    "label.shape"
   ]
  },
  {
   "cell_type": "markdown",
   "id": "2a99389e",
   "metadata": {},
   "source": [
    "\n",
    "### Label encoding \n",
    "is a technique used in machine learning to convert categorical labels into numerical format. It is commonly applied to the target variable or labels in a supervised learning problem.\n",
    "The label encoder assigns a unique numerical value to each unique category in the original label set."
   ]
  },
  {
   "cell_type": "code",
   "execution_count": 16,
   "id": "4d43f25a",
   "metadata": {},
   "outputs": [],
   "source": [
    "from sklearn.preprocessing import LabelEncoder\n",
    "encoder = LabelEncoder()\n",
    "target = encoder.fit_transform(label)"
   ]
  },
  {
   "cell_type": "code",
   "execution_count": 17,
   "id": "28c58a4b",
   "metadata": {},
   "outputs": [
    {
     "name": "stdout",
     "output_type": "stream",
     "text": [
      "[1 1 0 1 1]\n"
     ]
    }
   ],
   "source": [
    "print(target[0:5])"
   ]
  },
  {
   "cell_type": "markdown",
   "id": "634d7d8e",
   "metadata": {},
   "source": [
    "### train_test_split\n",
    "train_test_split function from the sklearn.model_selection module. This function is commonly used in machine learning to split a dataset into training and testing sets."
   ]
  },
  {
   "cell_type": "code",
   "execution_count": 19,
   "id": "faf2f0f3",
   "metadata": {},
   "outputs": [],
   "source": [
    "from sklearn.model_selection import train_test_split"
   ]
  },
  {
   "cell_type": "code",
   "execution_count": 20,
   "id": "40a1c000",
   "metadata": {},
   "outputs": [],
   "source": [
    "x_train,x_test,y_train,y_test = train_test_split(features, target, test_size=0.3, random_state=23)"
   ]
  },
  {
   "cell_type": "markdown",
   "id": "3d52512d",
   "metadata": {},
   "source": [
    "- x_train: The training set of features.\n",
    "- x_test: The testing set of features.\n",
    "- y_train: The training set of target values.\n",
    "- y_test: The testing set of target values.\n",
    "    \n",
    "#### test_size=0.3: \n",
    "This parameter indicates that 30% of the data will be used for testing, and the remaining 70% will be used for training.\n",
    "#### random_state=23: \n",
    "This sets the seed for the random number generator, ensuring that if you run the code with the same seed (23 in this case), you will get the same split each time. This is useful for reproducibility."
   ]
  },
  {
   "cell_type": "code",
   "execution_count": 21,
   "id": "c80a24e6",
   "metadata": {},
   "outputs": [
    {
     "name": "stdout",
     "output_type": "stream",
     "text": [
      "[[-0.826173149 -3.465768419 -3.391670449 0.262105904 1.473123289\n",
      "  4.24993938 '1.142108458']\n",
      " [-0.606505459 -2.1968009 -2.89354116 0.272768055 0.132270563 3.182930726\n",
      "  '0.087091587']\n",
      " [-0.302364267 1.724395847 -2.442337223 3.465108479 0.449791675\n",
      "  -0.074362452 '2.493781985']\n",
      " [1.355007604 -2.279671584 -0.499865376 0.486596383 2.179009114\n",
      "  -0.927642892 '1.775343683']\n",
      " [-4.389032417 -2.012014025 0.416052283 1.155302186 0.845483421\n",
      "  1.777485812 '5.614975313']]\n"
     ]
    }
   ],
   "source": [
    "print(x_train[0:5])"
   ]
  },
  {
   "cell_type": "markdown",
   "id": "c7b89b69",
   "metadata": {},
   "source": [
    "### Sequential Model\n",
    "A sequential model in Keras is a linear stack of layers where you can simply add one layer at a time. Each layer has weights that correspond to the layer that follows it. "
   ]
  },
  {
   "cell_type": "code",
   "execution_count": null,
   "id": "c6fe552f",
   "metadata": {},
   "outputs": [],
   "source": [
    "# Define a sequential model\n",
    "model = Sequential([\n",
    "    # First hidden layer with 6 units, ReLU activation function, and input dimension of 7\n",
    "    # Input Dim is 7 because we have 7 column of features.\n",
    "    Dense(6, activation='relu', input_dim=7),\n",
    "    \n",
    "    # Second hidden layer with 8 units and ReLU activation function\n",
    "    Dense(8, activation='relu'),\n",
    "    \n",
    "    # Output layer with 1 unit and sigmoid activation function (for binary classification)\n",
    "    Dense(1, activation='sigmoid')\n",
    "])"
   ]
  },
  {
   "cell_type": "markdown",
   "id": "cb57f494",
   "metadata": {},
   "source": [
    "#### optimizer=\"adam\": \n",
    "This specifies the Adam optimization algorithm, which is a popular choice for gradient-based optimization.\n",
    "#### loss='binary_crossentropy': \n",
    "This is the loss function used for binary classification problems. It measures the difference between the true labels and the predicted probabilities.\n",
    "#### metrics=['accuracy']: \n",
    "During training, the model will monitor accuracy as an evaluation metric."
   ]
  },
  {
   "cell_type": "code",
   "execution_count": 23,
   "id": "49e52e06",
   "metadata": {},
   "outputs": [
    {
     "name": "stdout",
     "output_type": "stream",
     "text": [
      "WARNING:tensorflow:From C:\\Users\\91990\\anaconda3\\lib\\site-packages\\keras\\src\\optimizers\\__init__.py:309: The name tf.train.Optimizer is deprecated. Please use tf.compat.v1.train.Optimizer instead.\n",
      "\n",
      "Model: \"sequential\"\n",
      "_________________________________________________________________\n",
      " Layer (type)                Output Shape              Param #   \n",
      "=================================================================\n",
      " dense (Dense)               (None, 6)                 48        \n",
      "                                                                 \n",
      " dense_1 (Dense)             (None, 8)                 56        \n",
      "                                                                 \n",
      " dense_2 (Dense)             (None, 1)                 9         \n",
      "                                                                 \n",
      "=================================================================\n",
      "Total params: 113 (452.00 Byte)\n",
      "Trainable params: 113 (452.00 Byte)\n",
      "Non-trainable params: 0 (0.00 Byte)\n",
      "_________________________________________________________________\n"
     ]
    }
   ],
   "source": [
    "model.compile(optimizer=\"adam\", loss='binary_crossentropy', metrics=['accuracy'])\n",
    "model.summary()"
   ]
  },
  {
   "cell_type": "markdown",
   "id": "2bdf0532",
   "metadata": {},
   "source": [
    "printed a summary of your model's architecture, showing the number of parameters in each layer. The summary includes information about the layers, the output shapes, and the number of parameters.\n"
   ]
  },
  {
   "cell_type": "code",
   "execution_count": 25,
   "id": "0eea4ad3",
   "metadata": {},
   "outputs": [],
   "source": [
    "x_train = np.asarray(x_train).astype(np.float32)\n",
    "y_train  = np.asarray(y_train).astype(np.float32)\n",
    "x_test = np.asarray(x_test).astype(np.float32)\n",
    "y_test  = np.asarray(y_test).astype(np.float32)"
   ]
  },
  {
   "cell_type": "markdown",
   "id": "4fb702cd",
   "metadata": {},
   "source": [
    "converting your training and testing data to NumPy arrays and explicitly specifying the data type as np.float32. This is a common preprocessing step before feeding the data into a machine learning model. "
   ]
  },
  {
   "cell_type": "markdown",
   "id": "b8384e56",
   "metadata": {},
   "source": [
    "#### fit()\n",
    "- fit method trains the model on the training data (x_train and y_train) for the specified number of epochs, and it validates the model on the provided validation data at the end of each epoch. \n",
    "- The training process updates the model's weights based on the chosen optimization algorithm and the specified loss function."
   ]
  },
  {
   "cell_type": "code",
   "execution_count": 27,
   "id": "b02feb7b",
   "metadata": {},
   "outputs": [
    {
     "name": "stdout",
     "output_type": "stream",
     "text": [
      "Epoch 1/100\n",
      "WARNING:tensorflow:From C:\\Users\\91990\\anaconda3\\lib\\site-packages\\keras\\src\\utils\\tf_utils.py:492: The name tf.ragged.RaggedTensorValue is deprecated. Please use tf.compat.v1.ragged.RaggedTensorValue instead.\n",
      "\n",
      "WARNING:tensorflow:From C:\\Users\\91990\\anaconda3\\lib\\site-packages\\keras\\src\\engine\\base_layer_utils.py:384: The name tf.executing_eagerly_outside_functions is deprecated. Please use tf.compat.v1.executing_eagerly_outside_functions instead.\n",
      "\n",
      "88/88 [==============================] - 2s 4ms/step - loss: 0.7468 - accuracy: 0.4646 - val_loss: 0.6749 - val_accuracy: 0.5475\n",
      "Epoch 2/100\n",
      "88/88 [==============================] - 0s 2ms/step - loss: 0.6492 - accuracy: 0.5954 - val_loss: 0.6180 - val_accuracy: 0.6800\n",
      "Epoch 3/100\n",
      "88/88 [==============================] - 0s 2ms/step - loss: 0.5952 - accuracy: 0.6864 - val_loss: 0.5739 - val_accuracy: 0.7167\n",
      "Epoch 4/100\n",
      "88/88 [==============================] - 0s 2ms/step - loss: 0.5501 - accuracy: 0.7329 - val_loss: 0.5329 - val_accuracy: 0.7475\n",
      "Epoch 5/100\n",
      "88/88 [==============================] - 0s 2ms/step - loss: 0.5062 - accuracy: 0.7629 - val_loss: 0.4941 - val_accuracy: 0.7767\n",
      "Epoch 6/100\n",
      "88/88 [==============================] - 0s 2ms/step - loss: 0.4663 - accuracy: 0.7900 - val_loss: 0.4581 - val_accuracy: 0.8025\n",
      "Epoch 7/100\n",
      "88/88 [==============================] - 0s 2ms/step - loss: 0.4355 - accuracy: 0.8054 - val_loss: 0.4344 - val_accuracy: 0.8083\n",
      "Epoch 8/100\n",
      "88/88 [==============================] - 0s 2ms/step - loss: 0.4160 - accuracy: 0.8146 - val_loss: 0.4176 - val_accuracy: 0.8183\n",
      "Epoch 9/100\n",
      "88/88 [==============================] - 0s 2ms/step - loss: 0.4020 - accuracy: 0.8146 - val_loss: 0.4031 - val_accuracy: 0.8250\n",
      "Epoch 10/100\n",
      "88/88 [==============================] - 0s 2ms/step - loss: 0.3919 - accuracy: 0.8200 - val_loss: 0.3951 - val_accuracy: 0.8275\n",
      "Epoch 11/100\n",
      "88/88 [==============================] - 0s 2ms/step - loss: 0.3848 - accuracy: 0.8236 - val_loss: 0.3890 - val_accuracy: 0.8308\n",
      "Epoch 12/100\n",
      "88/88 [==============================] - 0s 2ms/step - loss: 0.3785 - accuracy: 0.8268 - val_loss: 0.3816 - val_accuracy: 0.8333\n",
      "Epoch 13/100\n",
      "88/88 [==============================] - 0s 2ms/step - loss: 0.3736 - accuracy: 0.8296 - val_loss: 0.3753 - val_accuracy: 0.8375\n",
      "Epoch 14/100\n",
      "88/88 [==============================] - 0s 2ms/step - loss: 0.3693 - accuracy: 0.8311 - val_loss: 0.3702 - val_accuracy: 0.8392\n",
      "Epoch 15/100\n",
      "88/88 [==============================] - 0s 2ms/step - loss: 0.3651 - accuracy: 0.8339 - val_loss: 0.3662 - val_accuracy: 0.8467\n",
      "Epoch 16/100\n",
      "88/88 [==============================] - 0s 2ms/step - loss: 0.3622 - accuracy: 0.8336 - val_loss: 0.3620 - val_accuracy: 0.8467\n",
      "Epoch 17/100\n",
      "88/88 [==============================] - 0s 2ms/step - loss: 0.3587 - accuracy: 0.8329 - val_loss: 0.3601 - val_accuracy: 0.8458\n",
      "Epoch 18/100\n",
      "88/88 [==============================] - 0s 2ms/step - loss: 0.3556 - accuracy: 0.8361 - val_loss: 0.3571 - val_accuracy: 0.8458\n",
      "Epoch 19/100\n",
      "88/88 [==============================] - 0s 2ms/step - loss: 0.3535 - accuracy: 0.8375 - val_loss: 0.3508 - val_accuracy: 0.8467\n",
      "Epoch 20/100\n",
      "88/88 [==============================] - 0s 2ms/step - loss: 0.3511 - accuracy: 0.8407 - val_loss: 0.3486 - val_accuracy: 0.8467\n",
      "Epoch 21/100\n",
      "88/88 [==============================] - 0s 2ms/step - loss: 0.3485 - accuracy: 0.8396 - val_loss: 0.3482 - val_accuracy: 0.8467\n",
      "Epoch 22/100\n",
      "88/88 [==============================] - 0s 2ms/step - loss: 0.3467 - accuracy: 0.8425 - val_loss: 0.3430 - val_accuracy: 0.8467\n",
      "Epoch 23/100\n",
      "88/88 [==============================] - 0s 2ms/step - loss: 0.3448 - accuracy: 0.8429 - val_loss: 0.3403 - val_accuracy: 0.8475\n",
      "Epoch 24/100\n",
      "88/88 [==============================] - 0s 2ms/step - loss: 0.3435 - accuracy: 0.8429 - val_loss: 0.3385 - val_accuracy: 0.8483\n",
      "Epoch 25/100\n",
      "88/88 [==============================] - 0s 2ms/step - loss: 0.3423 - accuracy: 0.8446 - val_loss: 0.3363 - val_accuracy: 0.8467\n",
      "Epoch 26/100\n",
      "88/88 [==============================] - 0s 2ms/step - loss: 0.3410 - accuracy: 0.8429 - val_loss: 0.3346 - val_accuracy: 0.8467\n",
      "Epoch 27/100\n",
      "88/88 [==============================] - 0s 2ms/step - loss: 0.3390 - accuracy: 0.8471 - val_loss: 0.3334 - val_accuracy: 0.8517\n",
      "Epoch 28/100\n",
      "88/88 [==============================] - 0s 2ms/step - loss: 0.3379 - accuracy: 0.8486 - val_loss: 0.3319 - val_accuracy: 0.8533\n",
      "Epoch 29/100\n",
      "88/88 [==============================] - 0s 2ms/step - loss: 0.3363 - accuracy: 0.8461 - val_loss: 0.3295 - val_accuracy: 0.8508\n",
      "Epoch 30/100\n",
      "88/88 [==============================] - 0s 2ms/step - loss: 0.3345 - accuracy: 0.8493 - val_loss: 0.3278 - val_accuracy: 0.8500\n",
      "Epoch 31/100\n",
      "88/88 [==============================] - 0s 2ms/step - loss: 0.3331 - accuracy: 0.8489 - val_loss: 0.3275 - val_accuracy: 0.8550\n",
      "Epoch 32/100\n",
      "88/88 [==============================] - 0s 2ms/step - loss: 0.3319 - accuracy: 0.8489 - val_loss: 0.3258 - val_accuracy: 0.8567\n",
      "Epoch 33/100\n",
      "88/88 [==============================] - 0s 2ms/step - loss: 0.3304 - accuracy: 0.8486 - val_loss: 0.3238 - val_accuracy: 0.8508\n",
      "Epoch 34/100\n",
      "88/88 [==============================] - 0s 2ms/step - loss: 0.3302 - accuracy: 0.8521 - val_loss: 0.3240 - val_accuracy: 0.8542\n",
      "Epoch 35/100\n",
      "88/88 [==============================] - 0s 2ms/step - loss: 0.3283 - accuracy: 0.8529 - val_loss: 0.3215 - val_accuracy: 0.8542\n",
      "Epoch 36/100\n",
      "88/88 [==============================] - 0s 2ms/step - loss: 0.3267 - accuracy: 0.8543 - val_loss: 0.3206 - val_accuracy: 0.8542\n",
      "Epoch 37/100\n",
      "88/88 [==============================] - 0s 3ms/step - loss: 0.3251 - accuracy: 0.8546 - val_loss: 0.3192 - val_accuracy: 0.8550\n",
      "Epoch 38/100\n",
      "88/88 [==============================] - 0s 2ms/step - loss: 0.3236 - accuracy: 0.8550 - val_loss: 0.3193 - val_accuracy: 0.8542\n",
      "Epoch 39/100\n",
      "88/88 [==============================] - 0s 2ms/step - loss: 0.3225 - accuracy: 0.8518 - val_loss: 0.3212 - val_accuracy: 0.8508\n",
      "Epoch 40/100\n",
      "88/88 [==============================] - 0s 2ms/step - loss: 0.3215 - accuracy: 0.8525 - val_loss: 0.3191 - val_accuracy: 0.8542\n",
      "Epoch 41/100\n",
      "88/88 [==============================] - 0s 2ms/step - loss: 0.3206 - accuracy: 0.8529 - val_loss: 0.3163 - val_accuracy: 0.8583\n",
      "Epoch 42/100\n",
      "88/88 [==============================] - 0s 2ms/step - loss: 0.3192 - accuracy: 0.8550 - val_loss: 0.3152 - val_accuracy: 0.8567\n",
      "Epoch 43/100\n",
      "88/88 [==============================] - 0s 2ms/step - loss: 0.3174 - accuracy: 0.8564 - val_loss: 0.3172 - val_accuracy: 0.8558\n",
      "Epoch 44/100\n",
      "88/88 [==============================] - 0s 2ms/step - loss: 0.3170 - accuracy: 0.8536 - val_loss: 0.3143 - val_accuracy: 0.8575\n",
      "Epoch 45/100\n",
      "88/88 [==============================] - 0s 2ms/step - loss: 0.3161 - accuracy: 0.8564 - val_loss: 0.3143 - val_accuracy: 0.8550\n",
      "Epoch 46/100\n",
      "88/88 [==============================] - 0s 2ms/step - loss: 0.3145 - accuracy: 0.8561 - val_loss: 0.3139 - val_accuracy: 0.8575\n",
      "Epoch 47/100\n",
      "88/88 [==============================] - 0s 2ms/step - loss: 0.3134 - accuracy: 0.8589 - val_loss: 0.3147 - val_accuracy: 0.8567\n",
      "Epoch 48/100\n",
      "88/88 [==============================] - 0s 2ms/step - loss: 0.3127 - accuracy: 0.8589 - val_loss: 0.3118 - val_accuracy: 0.8550\n",
      "Epoch 49/100\n",
      "88/88 [==============================] - 0s 2ms/step - loss: 0.3118 - accuracy: 0.8596 - val_loss: 0.3110 - val_accuracy: 0.8558\n",
      "Epoch 50/100\n",
      "88/88 [==============================] - 0s 2ms/step - loss: 0.3106 - accuracy: 0.8614 - val_loss: 0.3105 - val_accuracy: 0.8525\n",
      "Epoch 51/100\n",
      "88/88 [==============================] - 0s 2ms/step - loss: 0.3099 - accuracy: 0.8593 - val_loss: 0.3103 - val_accuracy: 0.8558\n",
      "Epoch 52/100\n",
      "88/88 [==============================] - 0s 2ms/step - loss: 0.3077 - accuracy: 0.8618 - val_loss: 0.3110 - val_accuracy: 0.8533\n",
      "Epoch 53/100\n",
      "88/88 [==============================] - 0s 2ms/step - loss: 0.3066 - accuracy: 0.8632 - val_loss: 0.3090 - val_accuracy: 0.8583\n",
      "Epoch 54/100\n",
      "88/88 [==============================] - 0s 2ms/step - loss: 0.3055 - accuracy: 0.8650 - val_loss: 0.3077 - val_accuracy: 0.8550\n",
      "Epoch 55/100\n"
     ]
    },
    {
     "name": "stdout",
     "output_type": "stream",
     "text": [
      "88/88 [==============================] - 0s 2ms/step - loss: 0.3045 - accuracy: 0.8625 - val_loss: 0.3088 - val_accuracy: 0.8533\n",
      "Epoch 56/100\n",
      "88/88 [==============================] - 0s 2ms/step - loss: 0.3044 - accuracy: 0.8639 - val_loss: 0.3061 - val_accuracy: 0.8558\n",
      "Epoch 57/100\n",
      "88/88 [==============================] - 0s 2ms/step - loss: 0.3026 - accuracy: 0.8632 - val_loss: 0.3056 - val_accuracy: 0.8575\n",
      "Epoch 58/100\n",
      "88/88 [==============================] - 0s 2ms/step - loss: 0.3018 - accuracy: 0.8661 - val_loss: 0.3049 - val_accuracy: 0.8592\n",
      "Epoch 59/100\n",
      "88/88 [==============================] - 0s 2ms/step - loss: 0.3003 - accuracy: 0.8661 - val_loss: 0.3042 - val_accuracy: 0.8583\n",
      "Epoch 60/100\n",
      "88/88 [==============================] - 0s 2ms/step - loss: 0.2998 - accuracy: 0.8668 - val_loss: 0.3044 - val_accuracy: 0.8583\n",
      "Epoch 61/100\n",
      "88/88 [==============================] - 0s 2ms/step - loss: 0.2987 - accuracy: 0.8650 - val_loss: 0.3048 - val_accuracy: 0.8575\n",
      "Epoch 62/100\n",
      "88/88 [==============================] - 0s 2ms/step - loss: 0.2979 - accuracy: 0.8682 - val_loss: 0.3027 - val_accuracy: 0.8600\n",
      "Epoch 63/100\n",
      "88/88 [==============================] - 0s 2ms/step - loss: 0.2967 - accuracy: 0.8696 - val_loss: 0.3020 - val_accuracy: 0.8608\n",
      "Epoch 64/100\n",
      "88/88 [==============================] - 0s 2ms/step - loss: 0.2962 - accuracy: 0.8657 - val_loss: 0.3028 - val_accuracy: 0.8617\n",
      "Epoch 65/100\n",
      "88/88 [==============================] - 0s 2ms/step - loss: 0.2954 - accuracy: 0.8686 - val_loss: 0.3055 - val_accuracy: 0.8583\n",
      "Epoch 66/100\n",
      "88/88 [==============================] - 0s 2ms/step - loss: 0.2943 - accuracy: 0.8646 - val_loss: 0.3023 - val_accuracy: 0.8608\n",
      "Epoch 67/100\n",
      "88/88 [==============================] - 0s 2ms/step - loss: 0.2931 - accuracy: 0.8682 - val_loss: 0.3000 - val_accuracy: 0.8650\n",
      "Epoch 68/100\n",
      "88/88 [==============================] - 0s 2ms/step - loss: 0.2934 - accuracy: 0.8668 - val_loss: 0.3002 - val_accuracy: 0.8608\n",
      "Epoch 69/100\n",
      "88/88 [==============================] - 0s 2ms/step - loss: 0.2917 - accuracy: 0.8646 - val_loss: 0.2993 - val_accuracy: 0.8633\n",
      "Epoch 70/100\n",
      "88/88 [==============================] - 0s 2ms/step - loss: 0.2921 - accuracy: 0.8671 - val_loss: 0.3010 - val_accuracy: 0.8592\n",
      "Epoch 71/100\n",
      "88/88 [==============================] - 0s 2ms/step - loss: 0.2906 - accuracy: 0.8675 - val_loss: 0.3013 - val_accuracy: 0.8625\n",
      "Epoch 72/100\n",
      "88/88 [==============================] - 0s 2ms/step - loss: 0.2900 - accuracy: 0.8682 - val_loss: 0.2981 - val_accuracy: 0.8625\n",
      "Epoch 73/100\n",
      "88/88 [==============================] - 0s 2ms/step - loss: 0.2889 - accuracy: 0.8714 - val_loss: 0.2997 - val_accuracy: 0.8633\n",
      "Epoch 74/100\n",
      "88/88 [==============================] - 0s 2ms/step - loss: 0.2896 - accuracy: 0.8704 - val_loss: 0.2987 - val_accuracy: 0.8625\n",
      "Epoch 75/100\n",
      "88/88 [==============================] - 0s 2ms/step - loss: 0.2877 - accuracy: 0.8714 - val_loss: 0.2983 - val_accuracy: 0.8642\n",
      "Epoch 76/100\n",
      "88/88 [==============================] - 0s 2ms/step - loss: 0.2874 - accuracy: 0.8711 - val_loss: 0.2966 - val_accuracy: 0.8650\n",
      "Epoch 77/100\n",
      "88/88 [==============================] - 0s 2ms/step - loss: 0.2870 - accuracy: 0.8696 - val_loss: 0.3002 - val_accuracy: 0.8608\n",
      "Epoch 78/100\n",
      "88/88 [==============================] - 0s 2ms/step - loss: 0.2866 - accuracy: 0.8704 - val_loss: 0.2959 - val_accuracy: 0.8642\n",
      "Epoch 79/100\n",
      "88/88 [==============================] - 0s 2ms/step - loss: 0.2850 - accuracy: 0.8746 - val_loss: 0.2989 - val_accuracy: 0.8600\n",
      "Epoch 80/100\n",
      "88/88 [==============================] - 0s 2ms/step - loss: 0.2852 - accuracy: 0.8718 - val_loss: 0.2957 - val_accuracy: 0.8617\n",
      "Epoch 81/100\n",
      "88/88 [==============================] - 0s 2ms/step - loss: 0.2842 - accuracy: 0.8732 - val_loss: 0.2954 - val_accuracy: 0.8633\n",
      "Epoch 82/100\n",
      "88/88 [==============================] - 0s 2ms/step - loss: 0.2832 - accuracy: 0.8714 - val_loss: 0.2975 - val_accuracy: 0.8667\n",
      "Epoch 83/100\n",
      "88/88 [==============================] - 0s 2ms/step - loss: 0.2846 - accuracy: 0.8718 - val_loss: 0.2940 - val_accuracy: 0.8617\n",
      "Epoch 84/100\n",
      "88/88 [==============================] - 0s 2ms/step - loss: 0.2822 - accuracy: 0.8754 - val_loss: 0.2941 - val_accuracy: 0.8633\n",
      "Epoch 85/100\n",
      "88/88 [==============================] - 0s 2ms/step - loss: 0.2817 - accuracy: 0.8732 - val_loss: 0.2949 - val_accuracy: 0.8650\n",
      "Epoch 86/100\n",
      "88/88 [==============================] - 0s 2ms/step - loss: 0.2814 - accuracy: 0.8732 - val_loss: 0.2949 - val_accuracy: 0.8625\n",
      "Epoch 87/100\n",
      "88/88 [==============================] - 0s 2ms/step - loss: 0.2816 - accuracy: 0.8750 - val_loss: 0.2931 - val_accuracy: 0.8617\n",
      "Epoch 88/100\n",
      "88/88 [==============================] - 0s 2ms/step - loss: 0.2806 - accuracy: 0.8729 - val_loss: 0.2932 - val_accuracy: 0.8642\n",
      "Epoch 89/100\n",
      "88/88 [==============================] - 0s 2ms/step - loss: 0.2803 - accuracy: 0.8739 - val_loss: 0.2952 - val_accuracy: 0.8692\n",
      "Epoch 90/100\n",
      "88/88 [==============================] - 0s 2ms/step - loss: 0.2799 - accuracy: 0.8739 - val_loss: 0.2925 - val_accuracy: 0.8658\n",
      "Epoch 91/100\n",
      "88/88 [==============================] - 0s 2ms/step - loss: 0.2785 - accuracy: 0.8725 - val_loss: 0.2912 - val_accuracy: 0.8625\n",
      "Epoch 92/100\n",
      "88/88 [==============================] - 0s 2ms/step - loss: 0.2788 - accuracy: 0.8736 - val_loss: 0.2904 - val_accuracy: 0.8658\n",
      "Epoch 93/100\n",
      "88/88 [==============================] - 0s 2ms/step - loss: 0.2783 - accuracy: 0.8736 - val_loss: 0.2904 - val_accuracy: 0.8625\n",
      "Epoch 94/100\n",
      "88/88 [==============================] - 0s 2ms/step - loss: 0.2756 - accuracy: 0.8750 - val_loss: 0.2972 - val_accuracy: 0.8650\n",
      "Epoch 95/100\n",
      "88/88 [==============================] - 0s 2ms/step - loss: 0.2780 - accuracy: 0.8754 - val_loss: 0.2895 - val_accuracy: 0.8667\n",
      "Epoch 96/100\n",
      "88/88 [==============================] - 0s 2ms/step - loss: 0.2776 - accuracy: 0.8754 - val_loss: 0.2892 - val_accuracy: 0.8658\n",
      "Epoch 97/100\n",
      "88/88 [==============================] - 0s 2ms/step - loss: 0.2768 - accuracy: 0.8761 - val_loss: 0.2915 - val_accuracy: 0.8675\n",
      "Epoch 98/100\n",
      "88/88 [==============================] - 0s 2ms/step - loss: 0.2759 - accuracy: 0.8786 - val_loss: 0.2893 - val_accuracy: 0.8658\n",
      "Epoch 99/100\n",
      "88/88 [==============================] - 0s 2ms/step - loss: 0.2745 - accuracy: 0.8775 - val_loss: 0.2921 - val_accuracy: 0.8692\n",
      "Epoch 100/100\n",
      "88/88 [==============================] - 0s 2ms/step - loss: 0.2749 - accuracy: 0.8789 - val_loss: 0.2912 - val_accuracy: 0.8675\n"
     ]
    }
   ],
   "source": [
    "final = model.fit(x_train, y_train, epochs = 100, validation_data=(x_test,y_test))"
   ]
  },
  {
   "cell_type": "markdown",
   "id": "4c21f61d",
   "metadata": {},
   "source": [
    "The final variable likely stores information about the training process, such as loss and accuracy values over epochs. You can use this information to analyze the model's performance and make decisions about further training or model adjustments."
   ]
  },
  {
   "cell_type": "code",
   "execution_count": null,
   "id": "4dbbf6be",
   "metadata": {},
   "outputs": [],
   "source": []
  }
 ],
 "metadata": {
  "kernelspec": {
   "display_name": "Python 3 (ipykernel)",
   "language": "python",
   "name": "python3"
  },
  "language_info": {
   "codemirror_mode": {
    "name": "ipython",
    "version": 3
   },
   "file_extension": ".py",
   "mimetype": "text/x-python",
   "name": "python",
   "nbconvert_exporter": "python",
   "pygments_lexer": "ipython3",
   "version": "3.9.18"
  }
 },
 "nbformat": 4,
 "nbformat_minor": 5
}
